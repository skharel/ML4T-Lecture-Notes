{
 "cells": [
  {
   "cell_type": "code",
   "execution_count": 1,
   "source": [
    "import numpy as np\n",
    "import pandas as pd\n",
    "from pandas import DataFrame, Series\n",
    "import matplotlib.pyplot as plt"
   ],
   "outputs": [],
   "metadata": {}
  },
  {
   "cell_type": "markdown",
   "source": [
    "# 4 important portfolio statistic\n",
    "- cummulative returns\n",
    "  - (last value / beginning value) - 1\n",
    "- average daily return\n",
    "  - average the data\n",
    "- standard [deviation] daily returns (or risk or volatility)\n",
    "  - compute standard deviation\n",
    "- sharpe ratio\n",
    "  - consider reward in the context of risk\n",
    "  - (portfolio returns - risk free return) / std dev. of portfolio return\n",
    "\n",
    "Note: daily returns on first day is always 0 and therefore should be excluded from calculation in CR, avg daily returns, standard daily return and sharpe ratio"
   ],
   "metadata": {}
  },
  {
   "cell_type": "markdown",
   "source": [
    "# Sharpe ratio:\n",
    "\n",
    "- video 07:\n",
    "\n",
    "S = mean(daily_returns - daily_risk_free_return) / std(daily_returns)\n",
    "\n",
    "- to calculate Sharpe ratio, we will need daily_returns"
   ],
   "metadata": {}
  },
  {
   "cell_type": "markdown",
   "source": [
    "daily_risk_free_return = 0"
   ],
   "metadata": {}
  },
  {
   "cell_type": "markdown",
   "source": [
    "## Sampling and sharpe ratio:\n",
    "\n",
    "- sharpe ratio vary widely depending on how frequently you sample\n",
    "- original intent was to sample it per year; so here is how to get annualized Sharpe Ratio:\n",
    "`SRannualized = k * S` where  `k = sqrt(# samples per year)`\n",
    "\n",
    "- if using `daily return` k = sqrt(252); for `weekly` k = sqrt(52); for `monthly` k= sqrt(12)\n"
   ],
   "metadata": {}
  },
  {
   "cell_type": "markdown",
   "source": [
    "## What is sharpe ratio given the following?\n",
    "\n",
    "- 60 days of data\n",
    "- average daily return = 10 bps = 0.0010\n",
    "- daily risk free rate = 2 bps = 0.0002\n",
    "- standard deviation of daily returns = 10 bps = 0.0010\n",
    "<hr />\n",
    "\n",
    "- Step 1: numerator 10 -2 = 8bps\n",
    "- Step 2: denumerator = 10 bps\n",
    "- Step 3: numerator / denumerator = 0.8\n",
    "- Step 4: convert to annualized since data data is based on daily data: sqrt(252) * 0.8 = 12.7\n"
   ],
   "metadata": {}
  },
  {
   "cell_type": "markdown",
   "source": [
    "# Try code from lecture for  portfolio value"
   ],
   "metadata": {}
  },
  {
   "cell_type": "code",
   "execution_count": 2,
   "source": [
    "def get_data(symbols, dates):\n",
    "    df = DataFrame(index=dates)\n",
    "    if 'SPY' not in symbols:  # add SPY for reference, if absent\n",
    "        symbols.insert(0, 'SPY')\n",
    "    for symbol in symbols:\n",
    "        df_temp = pd.read_csv(f\"data/{symbol}.csv\", index_col='Date',\n",
    "            parse_dates=True, usecols=['Date', 'Adj Close'], na_values=['nan']\n",
    "            ).rename(columns={'Adj Close': symbol})\n",
    "        df = df.join(df_temp)\n",
    "        if symbol == 'SPY':\n",
    "            df = df.dropna(subset=[\"SPY\"])\n",
    "    return df\n",
    "\n",
    "def plot_data(df, title=\"Stock prices\", ylabel=\"Price\"):\n",
    "    \"\"\"Plot stock prices with a custom title and meaningful axis labels.\"\"\"\n",
    "    ax = df.plot(title=title, fontsize=12)\n",
    "    ax.set_xlabel(\"Date\")\n",
    "    ax.set_ylabel(ylabel)\n",
    "    plt.grid(True)\n",
    "    plt.show()\n",
    "\n",
    "def print_head_tail(data, size=3):\n",
    "    print(data.head(size))\n",
    "    print(\"----------------------------------\")\n",
    "    print(data.tail(size))\n"
   ],
   "outputs": [],
   "metadata": {}
  },
  {
   "cell_type": "code",
   "execution_count": 3,
   "source": [
    "start_val = 1000000\n",
    "start_date = '2009-01-01'\n",
    "end_date = '2011-12-31'\n",
    "symbols = ['SPY', 'XOM', 'GOOG', 'GLD']\n",
    "allocs = [0.4, 0.4, 0.1, 0.1]\n",
    "prices = get_data(symbols, pd.date_range(start_date, end_date))"
   ],
   "outputs": [],
   "metadata": {}
  },
  {
   "cell_type": "code",
   "execution_count": 4,
   "source": [
    "print_head_tail(prices)"
   ],
   "outputs": [
    {
     "output_type": "stream",
     "name": "stdout",
     "text": [
      "              SPY    XOM    GOOG    GLD\n",
      "2009-01-02  86.80  74.48  321.32  86.23\n",
      "2009-01-05  86.70  74.47  328.05  84.48\n",
      "2009-01-06  87.28  73.26  334.06  85.13\n",
      "----------------------------------\n",
      "               SPY    XOM   GOOG     GLD\n",
      "2011-12-28  123.64  82.61  639.7  151.03\n",
      "2011-12-29  124.92  83.68  642.4  150.34\n",
      "2011-12-30  124.31  83.18  645.9  151.99\n"
     ]
    }
   ],
   "metadata": {}
  },
  {
   "cell_type": "markdown",
   "source": [
    "## Now calculate the value of portfolio day by day with out starting sum till the end date"
   ],
   "metadata": {}
  },
  {
   "cell_type": "code",
   "execution_count": 5,
   "source": [
    "initial_prices = prices.iloc[0, :]\n",
    "prices_normed = prices / initial_prices # makes initial day price 1 & everything else relative to it\n",
    "print_head_tail(prices_normed)\n",
    "# every row shows price at each day; remember inital day price was $1"
   ],
   "outputs": [
    {
     "output_type": "stream",
     "name": "stdout",
     "text": [
      "                 SPY       XOM      GOOG       GLD\n",
      "2009-01-02  1.000000  1.000000  1.000000  1.000000\n",
      "2009-01-05  0.998848  0.999866  1.020945  0.979705\n",
      "2009-01-06  1.005530  0.983620  1.039649  0.987243\n",
      "----------------------------------\n",
      "                 SPY       XOM      GOOG       GLD\n",
      "2011-12-28  1.424424  1.109157  1.990850  1.751479\n",
      "2011-12-29  1.439171  1.123523  1.999253  1.743477\n",
      "2011-12-30  1.432143  1.116810  2.010146  1.762612\n"
     ]
    }
   ],
   "metadata": {}
  },
  {
   "cell_type": "code",
   "execution_count": 6,
   "source": [
    "# multiply normed prices and allocations of our equity\n",
    "alloced = prices_normed * allocs\n",
    "print_head_tail(alloced)"
   ],
   "outputs": [
    {
     "output_type": "stream",
     "name": "stdout",
     "text": [
      "                 SPY       XOM      GOOG       GLD\n",
      "2009-01-02  0.400000  0.400000  0.100000  0.100000\n",
      "2009-01-05  0.399539  0.399946  0.102094  0.097971\n",
      "2009-01-06  0.402212  0.393448  0.103965  0.098724\n",
      "----------------------------------\n",
      "                 SPY       XOM      GOOG       GLD\n",
      "2011-12-28  0.569770  0.443663  0.199085  0.175148\n",
      "2011-12-29  0.575668  0.449409  0.199925  0.174348\n",
      "2011-12-30  0.572857  0.446724  0.201015  0.176261\n"
     ]
    }
   ],
   "metadata": {}
  },
  {
   "cell_type": "code",
   "execution_count": 7,
   "source": [
    "# from allocation to dollar amount allocated\n",
    "# every row shows the value of assets at each day\n",
    "pos_vals = alloced * start_val\n",
    "print_head_tail(pos_vals)"
   ],
   "outputs": [
    {
     "output_type": "stream",
     "name": "stdout",
     "text": [
      "                      SPY            XOM           GOOG            GLD\n",
      "2009-01-02  400000.000000  400000.000000  100000.000000  100000.000000\n",
      "2009-01-05  399539.170507  399946.294307  102094.485248   97970.543894\n",
      "2009-01-06  402211.981567  393447.905478  103964.894809   98724.341876\n",
      "----------------------------------\n",
      "                      SPY            XOM           GOOG            GLD\n",
      "2011-12-28  569769.585253  443662.728249  199085.024275  175147.860373\n",
      "2011-12-29  575668.202765  449409.237379  199925.308104  174347.674823\n",
      "2011-12-30  572857.142857  446723.952739  201014.564920  176261.162009\n"
     ]
    }
   ],
   "metadata": {}
  },
  {
   "cell_type": "code",
   "execution_count": 8,
   "source": [
    "port_val = pos_vals.sum(axis=1)  # portfolio value at the end of day for each day\n",
    "print_head_tail(port_val.round(4))\n",
    "\n",
    "# last row shows our total value"
   ],
   "outputs": [
    {
     "output_type": "stream",
     "name": "stdout",
     "text": [
      "2009-01-02    1000000.0000\n",
      "2009-01-05     999550.4940\n",
      "2009-01-06     998349.1237\n",
      "dtype: float64\n",
      "----------------------------------\n",
      "2011-12-28    1.387665e+06\n",
      "2011-12-29    1.399350e+06\n",
      "2011-12-30    1.396857e+06\n",
      "dtype: float64\n"
     ]
    }
   ],
   "metadata": {}
  },
  {
   "cell_type": "markdown",
   "source": [
    "# Alternatively can do this, using just allocation"
   ],
   "metadata": {}
  },
  {
   "cell_type": "code",
   "execution_count": 9,
   "source": [
    "print_head_tail(alloced)"
   ],
   "outputs": [
    {
     "output_type": "stream",
     "name": "stdout",
     "text": [
      "                 SPY       XOM      GOOG       GLD\n",
      "2009-01-02  0.400000  0.400000  0.100000  0.100000\n",
      "2009-01-05  0.399539  0.399946  0.102094  0.097971\n",
      "2009-01-06  0.402212  0.393448  0.103965  0.098724\n",
      "----------------------------------\n",
      "                 SPY       XOM      GOOG       GLD\n",
      "2011-12-28  0.569770  0.443663  0.199085  0.175148\n",
      "2011-12-29  0.575668  0.449409  0.199925  0.174348\n",
      "2011-12-30  0.572857  0.446724  0.201015  0.176261\n"
     ]
    }
   ],
   "metadata": {}
  },
  {
   "cell_type": "code",
   "execution_count": 10,
   "source": [
    "alloced_vals = alloced.sum(axis=1)\n",
    "print_head_tail(alloced_vals.round(4))"
   ],
   "outputs": [
    {
     "output_type": "stream",
     "name": "stdout",
     "text": [
      "2009-01-02    1.0000\n",
      "2009-01-05    0.9996\n",
      "2009-01-06    0.9983\n",
      "dtype: float64\n",
      "----------------------------------\n",
      "2011-12-28    1.3877\n",
      "2011-12-29    1.3994\n",
      "2011-12-30    1.3969\n",
      "dtype: float64\n"
     ]
    }
   ],
   "metadata": {}
  },
  {
   "cell_type": "code",
   "execution_count": 11,
   "source": [
    "daily_portfolio_val = alloced_vals * start_val\n",
    "print_head_tail(daily_portfolio_val.round(4))"
   ],
   "outputs": [
    {
     "output_type": "stream",
     "name": "stdout",
     "text": [
      "2009-01-02    1000000.0000\n",
      "2009-01-05     999550.4940\n",
      "2009-01-06     998349.1237\n",
      "dtype: float64\n",
      "----------------------------------\n",
      "2011-12-28    1.387665e+06\n",
      "2011-12-29    1.399350e+06\n",
      "2011-12-30    1.396857e+06\n",
      "dtype: float64\n"
     ]
    }
   ],
   "metadata": {}
  },
  {
   "cell_type": "code",
   "execution_count": 12,
   "source": [
    "def compute_daily_returns(df): # see lecture 1-4\n",
    "    daily_returns = df.copy()\n",
    "    price_t = df[1:]\n",
    "    price_t_minus_1 = df[:-1].values # so that values are not aligned by index and elementwise ops is doable\n",
    "    daily_returns[1:] = (price_t / price_t_minus_1) - 1\n",
    "    daily_returns.iloc[0] = 0\n",
    "    return daily_returns[1:]\n",
    "\n",
    "## Lets write a function to do all this!\n",
    "def get_sharpe_ratio(daily_portfolio_val):\n",
    "    daily_return = compute_daily_returns(daily_portfolio_val)\n",
    "    mean_daily_port_val = daily_return.mean()\n",
    "    sd_daily_port_val = daily_return.std()\n",
    "    k = np.sqrt(252) # 252 for daily frequency\n",
    "    daily_sharpe = mean_daily_port_val/sd_daily_port_val\n",
    "    print(f\"Mean: {mean_daily_port_val} and SD: {sd_daily_port_val}\")\n",
    "    annualized_sharpe = k * daily_sharpe\n",
    "    return annualized_sharpe\n",
    "\n",
    "def get_daily_port_val_and_sharpe_ratio(start_val, start_date, end_date, symbols, allocs):\n",
    "    # all above code in one spot!\n",
    "    prices = get_data(symbols, pd.date_range(start_date, end_date))\n",
    "    initial_prices = prices.iloc[0, :]\n",
    "    prices_normed = prices / initial_prices # makes initial day price 1 & everything else relative to it\n",
    "    alloced = prices_normed * allocs\n",
    "    daily_alloced_vals = alloced.sum(axis=1)\n",
    "    daily_portfolio_val = daily_alloced_vals * start_val \n",
    "    \n",
    "    # lets add sharpe ratio too\n",
    "    sr = get_sharpe_ratio(daily_portfolio_val)\n",
    "    print(f\"Start port val: ${daily_portfolio_val.iloc[0].round(2)}; End port val ${daily_portfolio_val.iloc[-1].round(2)}. \\nSharpe Ratio is {sr} for allocation {allocs}\")\n",
    "    print(\"  \")\n",
    "    return daily_portfolio_val, sr\n"
   ],
   "outputs": [],
   "metadata": {}
  },
  {
   "cell_type": "code",
   "execution_count": 13,
   "source": [
    "start_val = 1000000\n",
    "start_date = '2009-01-01'\n",
    "end_date = '2011-12-31'\n",
    "symbols = ['SPY', 'XOM', 'GOOG', 'GLD']\n",
    "\n",
    "_ = get_daily_port_val_and_sharpe_ratio(start_val, start_date, end_date, symbols, [0.4, 0.4, 0.1, 0.1])\n",
    "_ = get_daily_port_val_and_sharpe_ratio(start_val, start_date, end_date, symbols, [0.91, 0.03, 0.03, 0.03])\n",
    "_ = get_daily_port_val_and_sharpe_ratio(start_val, start_date, end_date, symbols, [0.2, 0.5, 0.15, 0.15])\n",
    "_ = get_daily_port_val_and_sharpe_ratio(start_val, start_date, end_date, symbols, [0.1, 0.1, 0.7, 0.1])\n",
    "_ = get_daily_port_val_and_sharpe_ratio(start_val, start_date, end_date, symbols, [0.03, 0.03, 0.91, 0.03])\n",
    "_ = get_daily_port_val_and_sharpe_ratio(start_val, start_date, end_date, symbols, [0.01, 0.01, 0.5642, 0.4158])\n",
    "\n",
    "# Notice that higher return doesn't necessarily mean higher sharpe ratio\n",
    "# between second from last and the last one, \n",
    "#  Second from last return = $195.... & SR = 0.94\n",
    "#  Last one: return = $189... but SR is 1.21!"
   ],
   "outputs": [
    {
     "output_type": "stream",
     "name": "stdout",
     "text": [
      "Mean: 0.0005164937963338702 and SD: 0.012143025495758337\n",
      "Start port val: $1000000.0; End port val $1396856.82. \n",
      "Sharpe Ratio is 0.6752093895962253 for allocation [0.4, 0.4, 0.1, 0.1]\n",
      "  \n",
      "Mean: 0.0005863484946687713 and SD: 0.013722928836652899\n",
      "Start port val: $1000000.0; End port val $1449937.01. \n",
      "Sharpe Ratio is 0.6782804095145463 for allocation [0.91, 0.03, 0.03, 0.03]\n",
      "  \n",
      "Mean: 0.0005222420956421482 and SD: 0.011522062436952075\n",
      "Start port val: $1000000.0; End port val $1410747.1. \n",
      "Sharpe Ratio is 0.7195184283017161 for allocation [0.2, 0.5, 0.15, 0.15]\n",
      "  \n",
      "Mean: 0.0009225573509385479 and SD: 0.015252690254036153\n",
      "Start port val: $1000000.0; End port val $1838258.39. \n",
      "Sharpe Ratio is 0.9601679232155291 for allocation [0.1, 0.1, 0.7, 0.1]\n",
      "  \n",
      "Mean: 0.0010419763144892784 and SD: 0.017441628839572506\n",
      "Start port val: $1000000.0; End port val $1958579.47. \n",
      "Sharpe Ratio is 0.9483553028843703 for allocation [0.03, 0.03, 0.91, 0.03]\n",
      "  \n",
      "Mean: 0.0009170326637706207 and SD: 0.011998945386412753\n",
      "Start port val: $1000000.0; End port val $1892507.61. \n",
      "Sharpe Ratio is 1.213226810019942 for allocation [0.01, 0.01, 0.5642, 0.4158]\n",
      "  \n"
     ]
    }
   ],
   "metadata": {}
  },
  {
   "cell_type": "markdown",
   "source": [
    "## Sharpe ratio note:\n",
    "\n",
    "A higher sharpe ratio implies a better return, a lower volatility, or both. There’s no guarantee that a higher sharpe ratio means a better cumulative return."
   ],
   "metadata": {}
  },
  {
   "cell_type": "code",
   "execution_count": 15,
   "source": [
    "# Sharpie ratio is not affected by $$$ of investment!\n",
    "start_val = 1\n",
    "\n",
    "_ = get_daily_port_val_and_sharpe_ratio(start_val, start_date, end_date, symbols, [0.4, 0.4, 0.1, 0.1])\n",
    "_ = get_daily_port_val_and_sharpe_ratio(start_val, start_date, end_date, symbols, [0.91, 0.03, 0.03, 0.03])\n",
    "_ = get_daily_port_val_and_sharpe_ratio(start_val, start_date, end_date, symbols, [0.2, 0.5, 0.15, 0.15])\n",
    "_ = get_daily_port_val_and_sharpe_ratio(start_val, start_date, end_date, symbols, [0.1, 0.1, 0.7, 0.1])\n",
    "_ = get_daily_port_val_and_sharpe_ratio(start_val, start_date, end_date, symbols, [0.03, 0.03, 0.91, 0.03])\n"
   ],
   "outputs": [
    {
     "output_type": "stream",
     "name": "stdout",
     "text": [
      "Mean: 0.0005164937963338709 and SD: 0.012143025495758332\n",
      "Start port val: $1.0; End port val $1.4. \n",
      "Sharpe Ratio is 0.6752093895962266 for allocation [0.4, 0.4, 0.1, 0.1]\n",
      "  \n",
      "Mean: 0.0005863484946687728 and SD: 0.013722928836652897\n",
      "Start port val: $1.0; End port val $1.45. \n",
      "Sharpe Ratio is 0.6782804095145482 for allocation [0.91, 0.03, 0.03, 0.03]\n",
      "  \n",
      "Mean: 0.0005222420956421444 and SD: 0.011522062436952071\n",
      "Start port val: $1.0; End port val $1.41. \n",
      "Sharpe Ratio is 0.7195184283017111 for allocation [0.2, 0.5, 0.15, 0.15]\n",
      "  \n",
      "Mean: 0.0009225573509385451 and SD: 0.015252690254036154\n",
      "Start port val: $1.0; End port val $1.84. \n",
      "Sharpe Ratio is 0.960167923215526 for allocation [0.1, 0.1, 0.7, 0.1]\n",
      "  \n",
      "Mean: 0.0010419763144892795 and SD: 0.017441628839572506\n",
      "Start port val: $1.0; End port val $1.96. \n",
      "Sharpe Ratio is 0.9483553028843713 for allocation [0.03, 0.03, 0.91, 0.03]\n",
      "  \n"
     ]
    }
   ],
   "metadata": {}
  }
 ],
 "metadata": {
  "orig_nbformat": 4,
  "language_info": {
   "name": "python",
   "version": "3.6.13",
   "mimetype": "text/x-python",
   "codemirror_mode": {
    "name": "ipython",
    "version": 3
   },
   "pygments_lexer": "ipython3",
   "nbconvert_exporter": "python",
   "file_extension": ".py"
  },
  "kernelspec": {
   "name": "python3",
   "display_name": "Python 3.6.13 64-bit ('ml4t': conda)"
  },
  "interpreter": {
   "hash": "977b4f815527edff52d42f7c09580f6f48eb00923934407c2fb133389eb94d28"
  }
 },
 "nbformat": 4,
 "nbformat_minor": 2
}