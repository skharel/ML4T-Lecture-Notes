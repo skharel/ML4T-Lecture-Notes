{
 "cells": [
  {
   "cell_type": "markdown",
   "source": [
    "# The Capital Asset Pricing Model: CAPM\n",
    "\n",
    "- Most significant ideas affecting in finance in the last century\n",
    "- It explains how the market impacts individual stock prices\n",
    "- It also provides mathematical framework for hedge fund investing\n",
    "- Developed by number of researchers independently in 1960's; \n",
    "- William Sharpe, Harry Markowitz and Merton Miller jointly received the nobel prize for this contribution in 1990\n",
    "- CAPM led to the development of `index funds` and the belief that you can't beat the market"
   ],
   "metadata": {}
  },
  {
   "cell_type": "markdown",
   "source": [
    "## Definition of a portfolio\n",
    "\n",
    "- A portfolio is weighted sets of assets  <br/>\n",
    "    <img alt=\"2_4_1.png\" src=\"images/2_4_1.png\" width=\"350\">\n",
    "- W<sub>i</sub>: Weight in asset i\n",
    "- Sum of all weights must be 1; some time we do allow to short an asset resulting in negative weights; hence in the item #2, it is absolute value of weights\n",
    "- Item 3 defines return of portfolio; is is weight * return on a day; sum of all return's for a day will give return of the day"
   ],
   "metadata": {}
  },
  {
   "cell_type": "markdown",
   "source": [
    "## Quiz: Portfolio Return\n",
    "\n",
    "<img alt=\"2_4_2.png\" src=\"images/2_4_2.png\" width=\"350\">\n",
    "\n",
    "- Stock A +1% means: it is up by 1%\n",
    "- Question: calculate return on this portfolio\n",
    "- Answer:\n",
    "  - Stock A: .75 * 1 = 0.75%\n",
    "  - Stock B: -.25 * -2 =  0.5%\n",
    "  - Returns: .75 + .5 = 1.25%\n",
    "- Sum of each return * weight"
   ],
   "metadata": {}
  },
  {
   "cell_type": "markdown",
   "source": [
    "## The Market portfolio:\n",
    "- Concept that is important to CAPM is market portfolio\n",
    "- When some refers to market they are referring to index that broadly covers the large set of stocks. In the US best eg is S&P 500; These indexes are composed of many individual stocks and `the market portfolio` is a combination of those stocks in a certain weighting.\n",
    "- Most of the important stocks are cap weighted; it means that individual weight of each stock in the portfolio is set according to that stocks market cap.\n",
    "- Think of these large markets as of oceans; then for each of these we can divide into sectors (like an island in an oceans)"
   ],
   "metadata": {}
  },
  {
   "cell_type": "markdown",
   "source": [
    "## The CAPM Equation:\n",
    "\n",
    "- core of CAPM Model <br/>\n",
    "  <img alt=\"2_4_3.png\" src=\"images/2_4_3.png\" width=\"350\">\n",
    "- `CAPM model says` that returns for an individual stock on a particular day t equals to:\n",
    "  - beta * the return on market of that day\n",
    "  - plus alpha of that particular stock on that day\n",
    "- So what CAPM model is asserting is that a significant portion of the return for a particular stock is due to the market; in other words `market moving up or down strongly affects the change on price on every individual stock`; the extent to which the market affects a particular stock is encapsulated in the Beta; every stocks has their own individual beta\n",
    "- The other component `alpha is` called `residual`. Based on beta calculation, it won't match exactly what the stock prices should have been; that is what this alpha (or residual) is for\n",
    "- Important part of CAPM model is that the expectation for alpha is 0\n",
    "\n",
    "## Where does alpha and beta come from?\n",
    "- from daily returns\n",
    "- lets plot daily returns of a particular stock with respect to S&P 500; Next fit a line to it <br/>\n",
    "<img alt=\"2_4_4.png\" src=\"images/2_4_4.png\" width=\"350\">\n",
    "- `Beta` is slope of the line\n",
    "- `Alpha` is y intercept\n",
    "- CAPM says you should expect it to be 0; in reality it is not always zero\n",
    "\n"
   ],
   "metadata": {}
  },
  {
   "cell_type": "markdown",
   "source": [
    "## Quiz: Compare Alpha and Beta:\n",
    "\n",
    "<img alt=\"2_4_5.png\" src=\"images/2_4_5.png\" width=\"350\">\n",
    "\n",
    "- Answer: \n",
    "  - ABC Has higher beta since it's slope is greater then XYZ\n",
    "  - ABC has larger y-intercept and therefor has higher alpha"
   ],
   "metadata": {}
  },
  {
   "cell_type": "markdown",
   "source": [
    "## CAPM vs active management\n",
    "\n",
    "- Passive vs active investing debate; it didn't exists before CAPM model\n",
    "- `passive`: buy index portfolio and hold\n",
    "- `active`: pick individual stocks <br/>\n",
    "<img alt=\"2_4_6.png\" src=\"images/2_4_6.png\" width=\"350\">\n",
    "- CAPM says alpha component is random and is 0\n",
    "- Active managers on the other hand believe that they can predict alpha; in other words they can pick two stocks and say which stock is gonna go up relative to market; they might not be exactly right on every pick but on average they believe that they are better then a flip of a coin\n",
    "  - If you believe on active manager's view, then you can use available information and ML to pick stocks with +ve and -ve alpha to hold or short them"
   ],
   "metadata": {}
  },
  {
   "cell_type": "markdown",
   "source": [
    "## CAPM for portfolios\n",
    "\n",
    "- weight of each stock * CAPM for each stocks\n",
    "- We can further simplify it (See green color) because CAPM says alpha is 0 on average; see CAPM vs Active for portfolio returns below <br/>\n",
    "<img alt=\"2_4_7.png\" src=\"images/2_4_7.png\" width=\"350\">\n",
    "\n"
   ],
   "metadata": {}
  },
  {
   "cell_type": "markdown",
   "source": [
    "## Quiz: Implications of CAPM\n",
    "\n",
    "<img alt=\"2_4_8.png\" src=\"images/2_4_8.png\" width=\"350\">\n",
    "\n",
    "- Answer:\n",
    "  - Upward market I want more Beta since it increase my return by large portion\n",
    "  - Downward market I want small beta since it will decrease my return by small portion"
   ],
   "metadata": {}
  },
  {
   "cell_type": "markdown",
   "source": [
    "## Implications of CAPM\n",
    "\n",
    "<img alt=\"2_4_9.png\" src=\"images/2_4_9.png\" width=\"350\">"
   ],
   "metadata": {}
  },
  {
   "cell_type": "markdown",
   "source": [
    "## Arbitrage Pricing Theory\n",
    "\n",
    "- developed by Stephen Ross in 1976\n",
    "- he observed CAPM as it was; but he said look we have this single beta that represents a particular stock's relationship to the market; `maybe we gotta have multiple beta's`\n",
    "- CAPM is really only allowing us to consider a stick in the entire ocean\n",
    "- Ross's ideas is that (continuing on the analogy of this class) we ought to consider the different islands; in other words a particular stock might have exposure to different aspects of the market.\n",
    "- Stock might be exposed to finance and therefore we ought to consider Beta with regard to finance and the return for finance of that day and so on;\n",
    "- `Break out BETAS` into different factors to get more accurate forecast of what the return's going to look like\n",
    "<img alt=\"2_4_10.png\" src=\"images/2_4_10.png\" width=\"350\">"
   ],
   "metadata": {}
  },
  {
   "cell_type": "markdown",
   "source": [],
   "metadata": {}
  }
 ],
 "metadata": {
  "orig_nbformat": 4,
  "language_info": {
   "name": "python"
  }
 },
 "nbformat": 4,
 "nbformat_minor": 2
}