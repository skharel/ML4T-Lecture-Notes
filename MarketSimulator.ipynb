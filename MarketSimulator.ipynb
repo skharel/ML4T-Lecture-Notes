{
 "cells": [
  {
   "cell_type": "markdown",
   "source": [
    "# Market Simulator\n",
    "\n",
    "- Based on content from [youtube](https://www.youtube.com/watch?v=TstVUVbu-Tk)\n",
    "- To go over project to create market simulator"
   ],
   "metadata": {}
  },
  {
   "cell_type": "markdown",
   "source": [
    "- SHORTING: if you see a sell order and don't have any thing owned, it is shorting\n",
    "- share costs: assume all order costs is adjusted close price"
   ],
   "metadata": {}
  },
  {
   "cell_type": "markdown",
   "source": [
    "## Recommendations: 16 mins\n",
    "\n",
    "\n",
    "### Step 1 - pricesDF: 16 mins\n",
    "- read symbols in order history file, what the earliest data & last date is\n",
    "- Based on this read the data for related ticker and the date range; this method `getData` is already provided; say we call this data set prices\n",
    "- add one more column to the end of this prices data called cash and set it to 1\n",
    "  - this cash column of 1 will makes sense in step 4 but for now hang on to why\n",
    "- Here is where we are so far at: <br/> <img alt=\"MK_Sim_1.png\" src=\"images/MK_Sim_1.png\" width=\"300\"> <br/>\n",
    "\n",
    "### Step 2 - tradesDF: 23:40 mins\n",
    "- create trades data frame by copying our prices DF\n",
    "- this is to represent any time number of assets changes; any changes should be logged to this DF. EG buying 100 shares of apple, in appl column we should see +100; selling 100 should be -100; if nothing done, then 0\n",
    "- How to build this? 25:59\n",
    "  - 1st step: fill everything with 0 after you copy, except for dates\n",
    "  - 2nd step: populate each row step by step; come back to order file and step through each row and fill in this trades. \n",
    "    - For each row where I buy or sell, update CASH column. (28 mins more description on updating cash)\n",
    "    - eg CASH to buy = #shares * price of share = sth; then multiply by -1 to indicate we are spending money; add an entry of + #shares_to_symbol\n",
    "    - eg CASH to sell = #shares * price of share  sth; then keep this +ve because we are getting money; add an entry of - #share_to_symbol\n",
    "    - when no trades are going on, everything is 0 <br/>\n",
    "  <img alt=\"MK_Sim_2.png\" src=\"images/MK_Sim_2.png\" width=\"350\"> <br/>\n",
    "\n",
    "### Step 3 - HoldingsDF: 36:00 mins\n",
    "- to represent on each day how much of each individual assets I was holding & how much cash I have\n",
    "- Important part of this DF is 1st row on 1st day:\n",
    "  - initialize all columns with 0 except cash cols; this means you are not holding any stocks but just all cash\n",
    "- How to create: 38:07\n",
    "  - copy from trades and set all to 0; for cash copy to the top row, say 15,000\n",
    "- Next step to fill in this table:\n",
    "  - 1st day is special: right now we only have cash column after init steps; now on first day we have +100 of AAPL for cost of $10,000, set AAPL in holdings to 100 & reduce cash of 15,000 to 5000.\n",
    "  - 2nd row: AAPL is still 100; we traded IBM by shorting it so -100 for IBM making 11,000; Cash is 5000 + 11000 = 16000\n",
    "  - 3rd row: Same as 2nd row since no trade was done and so on\n",
    "  - Last row: Sold 100 APPL making 13000; so our entry is only -100 for IBM with case of 16+13 = 29000\n",
    "  - so we started with cash of 15,000 and ended with cash of 29000! but we owe 100 IBM too <br/>\n",
    "  <img alt=\"MK_Sim_3.png\" src=\"images/MK_Sim_3.png\" width=\"300\"> <br/>\n",
    "\n",
    "### Step 4 - ValuesDF: 46:10\n",
    "- Copy from Holdings DF\n",
    "- instead of each column representing the number of shares that we hold, we want it to represent values in $ for the number of shares we hold\n",
    "- value = pricesDF * holdingsDF\n",
    "  - done!\n",
    "- BTW cash column works out too, because in our pricesDF we have cash column too and set its value to 1.\n",
    "- moving all the way to end row:\n",
    "  - AAPL: 0, IBM: -$9000 and cash is $29000\n",
    "  - Finally sum across columns (axis 1) which returns to us value day by day for each row; this is what we need to return <br/>\n",
    "  <img alt=\"MK_Sim_4.png\" src=\"images/MK_Sim_4.png\" width=\"300\"> <br/>"
   ],
   "metadata": {}
  },
  {
   "cell_type": "markdown",
   "source": [
    "## Leverage - 1:05:58\n",
    "\n",
    "- how much you got invested in market / liquidation in your account\n",
    "- leverage = sum of absolute value of investments / (sum of investments + case)\n",
    "\n"
   ],
   "metadata": {}
  },
  {
   "cell_type": "markdown",
   "source": [
    "## FAQ:\n",
    "\n",
    "- How to go from order file to trade file w/o for loop?\n",
    "  - can't avoid for loop here"
   ],
   "metadata": {}
  },
  {
   "cell_type": "markdown",
   "source": [
    "# Market Sim Q&A session:\n",
    "\n",
    "https://www.youtube.com/watch?v=1ysZptg2Ypk"
   ],
   "metadata": {}
  }
 ],
 "metadata": {
  "orig_nbformat": 4,
  "language_info": {
   "name": "python",
   "version": "3.6.13",
   "mimetype": "text/x-python",
   "codemirror_mode": {
    "name": "ipython",
    "version": 3
   },
   "pygments_lexer": "ipython3",
   "nbconvert_exporter": "python",
   "file_extension": ".py"
  },
  "kernelspec": {
   "name": "python3",
   "display_name": "Python 3.6.13 64-bit ('ml4t': conda)"
  },
  "interpreter": {
   "hash": "977b4f815527edff52d42f7c09580f6f48eb00923934407c2fb133389eb94d28"
  }
 },
 "nbformat": 4,
 "nbformat_minor": 2
}