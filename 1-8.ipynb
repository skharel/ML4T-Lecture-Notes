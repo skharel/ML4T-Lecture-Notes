{
 "cells": [
  {
   "cell_type": "code",
   "execution_count": 1,
   "source": [
    "import numpy as np\n",
    "import pandas as pd\n",
    "from pandas import DataFrame, Series\n",
    "import matplotlib.pyplot as plt\n",
    "import scipy.optimize as spo"
   ],
   "outputs": [],
   "metadata": {}
  },
  {
   "cell_type": "markdown",
   "source": [
    "# Optimizers\n",
    "\n",
    "## What is an optimizer?\n",
    "An optimizer is an algorithm that can:\n",
    "\n",
    "  1. find minimum values of functions\n",
    "  2. build parameterized models based on data\n",
    "  3. refine allocations to stocks in portfolio\n",
    "\n",
    "## How do I use optimizer?\n",
    "3 key steps in using optimizers:\n",
    "\n",
    "  1. Provide a function to minimize\n",
    "  2. Provide an initial guess\n",
    "   - don't know best guess? just provide something random and optimzer will figure out correct for you anyway\n",
    "  3. call the optimizer"
   ],
   "metadata": {}
  },
  {
   "cell_type": "code",
   "execution_count": 2,
   "source": [
    "def f(x):\n",
    "    y = (x - 1.5)**2 + 0.5\n",
    "    print(f\"x = {x}, y = {y}\")\n",
    "    return y"
   ],
   "outputs": [],
   "metadata": {}
  },
  {
   "cell_type": "code",
   "execution_count": 3,
   "source": [
    "xguess = 2.0 # initial guess where we think function is minimum: x value\n",
    "min_result = spo.minimize(f, xguess, method='SLSQP', options={'disp': True}) # disp is verbose\n",
    "print(f\"Minimum found at X = {min_result.x}, Y = {min_result.fun}\")\n",
    "\n",
    "xplot = np.linspace(0.5, 2.5, 21) # generate 21 values between 0.5 & 2.5 to be used as x value\n",
    "yplot = f(xplot) # compute y for given x\n",
    "plt.plot(xplot, yplot) # plot x & y\n",
    "plt.plot(min_result.x, min_result.fun, 'ro')  # plot the minimizer result on top of function plot\n",
    "plt.title(\"Minima of objective function\")\n",
    "plt.show()"
   ],
   "outputs": [
    {
     "output_type": "stream",
     "name": "stdout",
     "text": [
      "x = [2.], y = [0.75]\n",
      "x = [2.], y = [0.75]\n",
      "x = [2.00000001], y = [0.75000001]\n",
      "x = [0.99999999], y = [0.75000001]\n",
      "x = [1.5], y = [0.5]\n",
      "x = [1.5], y = [0.5]\n",
      "x = [1.50000001], y = [0.5]\n",
      "Optimization terminated successfully.    (Exit mode 0)\n",
      "            Current function value: 0.5\n",
      "            Iterations: 2\n",
      "            Function evaluations: 7\n",
      "            Gradient evaluations: 2\n",
      "Minimum found at X = [1.5], Y = 0.5\n",
      "x = [0.5 0.6 0.7 0.8 0.9 1.  1.1 1.2 1.3 1.4 1.5 1.6 1.7 1.8 1.9 2.  2.1 2.2\n",
      " 2.3 2.4 2.5], y = [1.5  1.31 1.14 0.99 0.86 0.75 0.66 0.59 0.54 0.51 0.5  0.51 0.54 0.59\n",
      " 0.66 0.75 0.86 0.99 1.14 1.31 1.5 ]\n"
     ]
    },
    {
     "output_type": "display_data",
     "data": {
      "image/png": "[encoded data removed]",
      "text/plain": [
       "<Figure size 432x288 with 1 Axes>"
      ]
     },
     "metadata": {
      "needs_background": "light"
     }
    }
   ],
   "metadata": {}
  },
  {
   "cell_type": "markdown",
   "source": [
    "# Convex Problems\n",
    "- choose two points & draw line\n",
    "- convex problem if line is above graph\n",
    "\n",
    "- Convex problem has one global minima"
   ],
   "metadata": {}
  },
  {
   "cell_type": "markdown",
   "source": [
    "# Building a parameterized model\n",
    "\n",
    "- simple paramterized model: f(x) = mx + b; m & b are the parameters to this function\n",
    "- instead of m we will use c0 and for b we will use c1\n",
    "\n",
    "### f(x) = c<sub>0</sub>x+c<sub>1</sub>\n"
   ],
   "metadata": {}
  },
  {
   "cell_type": "markdown",
   "source": [
    "## Fit a line to given data points\n",
    "\n",
    "- minimizer will try various values for coefficients - c<sub>o</sub> & c<sub>1</sub>\n",
    "  - we will have to give initial guess\n",
    "- To the minimizer we will need to tell to minimize something; the thing that we want do do is find best fit of line and therefore we will define a error function and give that to minimizer as the thing that we want to minimize\n",
    "- Minimizer will compute some coefficient and using our error function can tell how good of a fit it was; it will iterate to compute some more coefficient and eventually settle for coefficient value that minimizes the error function\n",
    "\n"
   ],
   "metadata": {}
  },
  {
   "cell_type": "code",
   "execution_count": 4,
   "source": [
    "# our goal is to minimize error which is given by error function\n",
    "\n",
    "def error(line, data):\n",
    "    \"\"\"Computer error between given line model and observed data\n",
    "    \n",
    "    Parameters\n",
    "    ----------\n",
    "    line: line is just coefficients (and that is all we need to describe line); the data type of line can be tuple/list/array ((C0, C1) where C0 is slope and C1 is Y-intercept; \n",
    "    data: 2D array where each row is a point (x, y); we want to evaluate the line for this data\n",
    "    \n",
    "    Returns error as a single real value.\n",
    "    \"\"\"\n",
    "    slope, intercept = line\n",
    "    actual_x = data[:, 0]\n",
    "    actual_y = data[:, 1]\n",
    "    fitted_y = slope * actual_x + intercept\n",
    "    error = (actual_y - fitted_y)**2\n",
    "    err = np.sum(error)\n",
    "    return err  # notice that the error is single value!"
   ],
   "outputs": [],
   "metadata": {}
  },
  {
   "cell_type": "code",
   "execution_count": 5,
   "source": [
    "def fit_line(data, error_func):\n",
    "    \"\"\"Fit a line to given data, using a supplied error function.\n",
    "\n",
    "    Parameters\n",
    "    ----------\n",
    "    data: 2D array where each row is a point (X, Y)\n",
    "    error_func: function that computes the error between a line and observed data\n",
    "\n",
    "    Returns line that minimizes the error function.\n",
    "    \"\"\"\n",
    "\n",
    "    # generate initial guess for the line model: slope = 0 & y-intercept = mean of y\n",
    "    l = np.float32([0, np.mean(data[:, 1])])\n",
    "\n",
    "    # plot initial guess (optional)\n",
    "    x_ends = np.float32([-5, 5])\n",
    "    plt.plot(x_ends, l[0] * x_ends + l[1], 'k--', linewidth=3.0, label='Initial Guess')\n",
    "    \n",
    "    # call optimizer to minimize error function\n",
    "    # the args in here is how we pass data to our error function\n",
    "    # from sicpy docs: args is \"Extra arguments passed to the objective function and its derivatives\"\n",
    "    result = spo.minimize(error_func, l, args=(data,), method='SLSQP', options={'disp': True}) # disp means Verbose!\n",
    "    return result.x"
   ],
   "outputs": [],
   "metadata": {}
  },
  {
   "cell_type": "code",
   "execution_count": 6,
   "source": [
    "# Transpose is used in next section of code; lets see what it buys us first!\n",
    "# Eg of what Transpose can do. Suppose I want to pair element from these two array\n",
    "# simply creating an array just makes np array; but If transpose it I will have paired them!\n",
    "simple = np.asarray([[1,2,3], [4,5,6]])\n",
    "transposed = simple.T\n",
    "print(simple)\n",
    "print(transposed) # see how tranpose pairs the data!\n",
    "print(f\"x values: {transposed[:,0]}\")\n",
    "print(f\"y values: {transposed[:,1]}\")"
   ],
   "outputs": [
    {
     "output_type": "stream",
     "name": "stdout",
     "text": [
      "[[1 2 3]\n",
      " [4 5 6]]\n",
      "[[1 4]\n",
      " [2 5]\n",
      " [3 6]]\n",
      "x values: [1 2 3]\n",
      "y values: [4 5 6]\n"
     ]
    }
   ],
   "metadata": {}
  },
  {
   "cell_type": "code",
   "execution_count": 7,
   "source": [
    "# here is our line and only we know about it; its slope is 4 & y-intercept is 2\n",
    "l_orig = np.float32([4,2])  \n",
    "print(f\"Original line: C0 = {l_orig[0]}, C1 = {l_orig[1]}\")\n",
    "Xorig = np.linspace(0, 10, 21) # generate 21 values for X\n",
    "Yorig = l_orig[0] * Xorig + l_orig[1] # compute Y for our equation of line using x\n",
    "plt.plot(Xorig, Yorig, 'b--', linewidth = 2.0, label = \"Original line\") # lets see our line!\n",
    "\n",
    "# generate noisy data points\n",
    "noise_sigma = 3.0\n",
    "noise = np.random.normal(0, noise_sigma, Yorig.shape) # Par\n",
    "y_modified = Yorig + noise\n",
    "data = np.asarray([Xorig, y_modified]).T   # pair the X & Y by taking transpose\n",
    "plt.plot(data[:, 0 ], data[:, 1], 'go', label='Noisy data points') # plot our noisy data\n",
    "\n",
    "# so far I have a line and plot for it; I generated a noisy data based on my original line\n",
    "# now let's see if minimizer can recover my original line from noisy line\n",
    "# we are also plotting to see our original line, noisy data points, some guess & finally result of minimizer\n",
    "\n",
    "# lets do this to fit a line\n",
    "# all that work is now done by the code fit_line which returns minimizers best guess for line\n",
    "l_fit = fit_line(data, error)\n",
    "print (\"Fitted line (Minimizer Answer): C0 = {}, C1 = {}\".format(l_fit[0], l_fit[1]) )\n",
    "plt.plot(data[:, 0], l_fit[0] * data[:, 0] + l_fit[1], 'r--', linewidth=2.0, label = \"Minimizer Fitted Line\")\n",
    "plt.legend(loc=4)"
   ],
   "outputs": [
    {
     "output_type": "stream",
     "name": "stdout",
     "text": [
      "Original line: C0 = 4.0, C1 = 2.0\n",
      "Optimization terminated successfully.    (Exit mode 0)\n",
      "            Current function value: 171.43004426499039\n",
      "            Iterations: 5\n",
      "            Function evaluations: 24\n",
      "            Gradient evaluations: 5\n",
      "Fitted line (Minimizer Answer): C0 = 4.124753036854993, C1 = 1.3013137899222265\n"
     ]
    },
    {
     "output_type": "execute_result",
     "data": {
      "text/plain": [
       "<matplotlib.legend.Legend at 0x7fc65047fd68>"
      ]
     },
     "metadata": {},
     "execution_count": 7
    },
    {
     "output_type": "display_data",
     "data": {
      "image/png": "[encoded data removed]",
      "text/plain": [
       "<Figure size 432x288 with 1 Axes>"
      ]
     },
     "metadata": {
      "needs_background": "light"
     }
    }
   ],
   "metadata": {}
  },
  {
   "cell_type": "markdown",
   "source": [
    "# Fitting a polynomial\n",
    "\n",
    "Can even fit more complicated things then just a line!\n",
    "\n",
    "Let's fit polynomial then just some line"
   ],
   "metadata": {}
  },
  {
   "cell_type": "code",
   "execution_count": 8,
   "source": [
    "def err_poly(c, data):\n",
    "    \"\"\"Computer error between given polynomial and observed data\n",
    "\n",
    "    Parameters\n",
    "    ----------\n",
    "    c: numpy.poly1d object or equivalent array representing polynomial coefficients\n",
    "    data: 2D array where each row is a point (x,y)\n",
    "\n",
    "    Returns error as a single real value\n",
    "    \"\"\"\n",
    "    # Metric: Sum of squared Y-axis differences\n",
    "    actual_x = data[:, 0]\n",
    "    actual_y = data[:, 1]\n",
    "    guess_y = np.polyval(c, actual_x)\n",
    "    err = np.sum( (actual_y - guess_y) ** 2 )\n",
    "    return err\n",
    "\n",
    "def fit_poly(data, error_func, degree=3):\n",
    "    \"\"\"Fit a polynomial to given data, using supplied error function\n",
    "    \n",
    "    Parameters\n",
    "    ----------\n",
    "\n",
    "    data: 2D array where each row is a point (x, y)\n",
    "    error_func: function that computes the error between a polynomial and observed data\n",
    "    \n",
    "    Returns polynomial that minimized the error function\n",
    "    \"\"\"\n",
    "\n",
    "    initial_polynomial_coefficient_guess = np.poly1d(np.ones(degree + 1,  dtype=np.float32))\n",
    "    print(\"initial guess\")\n",
    "    print(initial_polynomial_coefficient_guess)\n",
    "\n",
    "    # plot of initial guess\n",
    "    guess_x = np.linspace(-5, 5, 21)\n",
    "    guess_y = np.polyval(initial_polynomial_coefficient_guess, guess_x)\n",
    "    plt.plot(guess_x, guess_y, 'k--', linewidth=2.0, label=\"Initial guess\")\n",
    "\n",
    "    # now tell the machine to optimize for our error function\n",
    "    result = spo.minimize(error_func, initial_polynomial_coefficient_guess, args=(data,), method='SLSQP', options={'disp': True})\n",
    "    return np.poly1d(result.x) # convert optimal result into a poly1d object and return it"
   ],
   "outputs": [],
   "metadata": {}
  },
  {
   "cell_type": "code",
   "execution_count": 9,
   "source": [
    "# define a original polynomial\n",
    "\n",
    "polynomial = np.poly1d([1.5, -10, -5, 60, 50]) \n",
    "print(f\"Original polynomial:\\n {polynomial}\")\n",
    "x_orig = np.linspace(-8, 8, 20) # gives linearly spaced 21 points between 0 & 10\n",
    "y_orig = np.polyval(polynomial, x_orig)\n",
    "plt.plot(x_orig, y_orig, 'b--', linewidth = 2.0, label = \"Original polynomial\")\n",
    "plt.xlim(-8, 10)\n",
    "plt.ylim(-500, 2000)\n",
    "\n",
    "\n",
    "# now lets generate some noise to our data\n",
    "noise_sigma = 30.0\n",
    "noise_y = np.random.normal(2, noise_sigma, y_orig.shape)\n",
    "y_modified = y_orig + noise_y\n",
    "data = np.asarray([x_orig, y_modified]).T\n",
    "plt.plot(data[:, 0 ], data[:, 1], 'go', label='Data points')\n",
    "\n",
    "# now give machine the work!\n",
    "fitted_polynomial = fit_poly(data, err_poly, 4)\n",
    "print(f\"Fitted polynomial:\\n {fitted_polynomial}\")\n",
    "fitted_y = np.polyval(fitted_polynomial, x_orig)\n",
    "plt.plot(x_orig, fitted_y, 'r--', linewidth=2.0, label=\"Minimizer Fitted polynomial\")\n",
    "\n",
    "plt.legend(loc=0)\n"
   ],
   "outputs": [
    {
     "output_type": "stream",
     "name": "stdout",
     "text": [
      "Original polynomial:\n",
      "      4      3     2\n",
      "1.5 x - 10 x - 5 x + 60 x + 50\n",
      "initial guess\n",
      "   4     3     2\n",
      "1 x + 1 x + 1 x + 1 x + 1\n",
      "Optimization terminated successfully.    (Exit mode 0)\n",
      "            Current function value: 19120.218426123618\n",
      "            Iterations: 7\n",
      "            Function evaluations: 71\n",
      "            Gradient evaluations: 7\n",
      "Fitted polynomial:\n",
      "        4         3         2\n",
      "1.476 x - 10.01 x - 3.862 x + 61.45 x + 46.22\n"
     ]
    },
    {
     "output_type": "execute_result",
     "data": {
      "text/plain": [
       "<matplotlib.legend.Legend at 0x7fc6606f7668>"
      ]
     },
     "metadata": {},
     "execution_count": 9
    },
    {
     "output_type": "display_data",
     "data": {
      "image/png": "[encoded data removed]",
      "text/plain": [
       "<Figure size 432x288 with 1 Axes>"
      ]
     },
     "metadata": {
      "needs_background": "light"
     }
    }
   ],
   "metadata": {}
  },
  {
   "cell_type": "markdown",
   "source": [
    "## Accessing coefficient by index can be surprising\n",
    "\n",
    "## use ployval to be accurate!"
   ],
   "metadata": {}
  },
  {
   "cell_type": "code",
   "execution_count": 10,
   "source": [
    "fitted_polynomial"
   ],
   "outputs": [
    {
     "output_type": "execute_result",
     "data": {
      "text/plain": [
       "poly1d([  1.47570008, -10.01104717,  -3.86154138,  61.45014499,\n",
       "        46.21741026])"
      ]
     },
     "metadata": {},
     "execution_count": 10
    }
   ],
   "metadata": {}
  },
  {
   "cell_type": "code",
   "execution_count": 11,
   "source": [
    "print(fitted_polynomial)"
   ],
   "outputs": [
    {
     "output_type": "stream",
     "name": "stdout",
     "text": [
      "       4         3         2\n",
      "1.476 x - 10.01 x - 3.862 x + 61.45 x + 46.22\n"
     ]
    }
   ],
   "metadata": {}
  },
  {
   "cell_type": "code",
   "execution_count": 12,
   "source": [
    "fitted_polynomial[0]  # 0 is last coefficient!"
   ],
   "outputs": [
    {
     "output_type": "execute_result",
     "data": {
      "text/plain": [
       "46.21741025692994"
      ]
     },
     "metadata": {},
     "execution_count": 12
    }
   ],
   "metadata": {}
  },
  {
   "cell_type": "code",
   "execution_count": 13,
   "source": [
    "fitted_polynomial[4] # this is coefficient for higher order term"
   ],
   "outputs": [
    {
     "output_type": "execute_result",
     "data": {
      "text/plain": [
       "1.4757000759631496"
      ]
     },
     "metadata": {},
     "execution_count": 13
    }
   ],
   "metadata": {}
  }
 ],
 "metadata": {
  "orig_nbformat": 4,
  "language_info": {
   "name": "python",
   "version": "3.6.13",
   "mimetype": "text/x-python",
   "codemirror_mode": {
    "name": "ipython",
    "version": 3
   },
   "pygments_lexer": "ipython3",
   "nbconvert_exporter": "python",
   "file_extension": ".py"
  },
  "kernelspec": {
   "name": "python3",
   "display_name": "Python 3.6.13 64-bit ('ml4t': conda)"
  },
  "interpreter": {
   "hash": "977b4f815527edff52d42f7c09580f6f48eb00923934407c2fb133389eb94d28"
  }
 },
 "nbformat": 4,
 "nbformat_minor": 2
}