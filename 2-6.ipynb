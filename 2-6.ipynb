{
 "cells": [
  {
   "cell_type": "markdown",
   "source": [
    "# Technical Analysis"
   ],
   "metadata": {}
  },
  {
   "cell_type": "markdown",
   "source": [
    "## Technical vs fundamental analysis\n",
    "- There are two broad categories of approaches to use for choosing to buy or sell stocks; they are based on `fundamental analysis` and `technical analysis`\n",
    "- `Fundamental analysis` involves looking at aspects of a company in order to estimate its value; fundamental investors look for a situations where the price of a company is below its value\n",
    "- `Techincal analysis` where technicians don't care about the value of a company; instead they look for patterns or trends in the price. We will look more into technical analysis."
   ],
   "metadata": {}
  },
  {
   "cell_type": "markdown",
   "source": [
    "## Characteristics of technical analysis\n",
    "\n",
    "- What is it?\n",
    "  - looks only at historical `price` and `volume`\n",
    "  - compute statistics called indicators\n",
    "  - indicator are heuristics\n",
    "- There is lot of `criticism for technical approach` because it doesn't consider the value of company; folks do not consider this to be an appropriate method for investing; instead one might `think` of it `as trading approach` as `opposed to investing approach`.\n",
    "- Still there are reasons why it might work:\n",
    "  - there is information in price and price change; it reflects sentiments of buyers and sellers and especially if we see that the price for particular stock is moving in different direction then the overall market, that might be a hint that there's something going on.\n",
    "  - heuristics work: \n",
    "    - additionally we know that in other domain of artificial intelligence heuristics can work, and they work frequently\n",
    "  \n",
    "<img alt=\"2_6_1.png\" src=\"images/2_6_1.png\" width=\"450\"> <br/>"
   ],
   "metadata": {}
  },
  {
   "cell_type": "markdown",
   "source": [
    "## Potential Indicators\n",
    "\n",
    "<img alt=\"2_6_2.png\" src=\"images/2_6_2.png\" width=\"450\"> <br/>\n",
    "\n",
    "Answers: T, T, F, F\n",
    "- Remember that technical analysis uses only price or volume"
   ],
   "metadata": {}
  },
  {
   "cell_type": "markdown",
   "source": [
    "## When is technical analysis valuable?\n",
    "\n",
    "<img alt=\"2_6_3.png\" src=\"images/2_6_3.png\" width=\"450\"> <br/>\n",
    "\n",
    "- combinations stronger:\n",
    "  - combining multiple indicators add value, 3-5 in ML context\n",
    "- look for contrast:\n",
    "  - look for a stock that has a strongly different indicator then another stock or a stock tha is contrasting to the market; in other words, if all stocks are behaving exactly same as the market, there's no reason to pick any one stock over another; but if you see certain stocks are behaving differently then the market then the are worth a further look\n",
    "- shorter time periods:\n",
    "  - Technical Analysis works better for shorter time period then longer time period"
   ],
   "metadata": {}
  },
  {
   "cell_type": "markdown",
   "source": [
    "## When is technical analysis valuable? Part 2:\n",
    "\n",
    "<img alt=\"2_6_4.png\" src=\"images/2_6_4.png\" width=\"550\"> <br/>\n",
    "\n",
    "- consider the trading horizon i.e when you buy a stock and sell it, what's the time period between those two activities? May be milliseconds, may be days and may be years\n",
    "- Consider fundamentals and how much they would matter for over the time period that you want to trade:\n",
    "  - if we are trading in milliseconds how much do fundamentals factors contribute to the change in price over the short periods of time? for MIllisecond one, fundamental factors matter\n",
    "  - for days: maybe over a period of days fundamental factors do have value\n",
    "  - over years, it provide long period of value\n",
    "- Lets consider technical factor for similar horizon\n",
    "  - for years, it wont matter\n",
    "  - for short period it will matter a lot\n",
    "\n",
    "- Similarly there are other factors such as decision speed, decision complexity etc.\n",
    "- as you look across the spectrum, consider where is the best region for humans to operate and where is best region for computers to operate? For the short trading horizon, we need to make decision fast and that is where technical analysis has value too; this is where computers can make decision fast; for long horizon, it is best region for human investors; region on middle is where humans and computer work together"
   ],
   "metadata": {}
  },
  {
   "cell_type": "markdown",
   "source": [
    "## A few indicators\n",
    "\n",
    "### 1. Momentum\n",
    "<img alt=\"2_6_5.png\" src=\"images/2_6_5.png\" width=\"550\"> <br/>\n",
    "- Simplest indicators\n",
    "- It is simply, over some number of days how much has the price changed?\n",
    "- Increase price: +ve momentum; decrease price: -ve momentum\n",
    "- Steepness of the line: Strength of the momentum\n",
    "- some look at momentum for stock and if it is +ve they buy because they anticipate it will continue; this is just how some people do it but not a recommendation to use it; later we will see how to build strategy with this\n",
    "- For ML we need to quantify what we see visually; \n",
    "- Formula: \n",
    "  - momentum[t] = (price[t] / price[t-n]) - 1 \n",
    "  - where n is the number of days to use for momentum\n",
    "- This will give us a number say between 0 & 1; eg .1 for 10% price increase or -.1 if it has gone down by 10% \n",
    "\n",
    "### 2. Simple moving average (SMA)\n",
    "<img alt=\"2_6_6.png\" src=\"images/2_6_6.png\" width=\"550\"> <br/>\n",
    "\n",
    "- it is also index by n to say how many days we are looking back; this is called `n-day window`\n",
    "- sma looks like smooth value of price chart as it moves around; it lags the movement\n",
    "- ways technicians use this as part of their strategy:\n",
    "  - first: they look for places where the current price crosses through the SMA; strong momentum + SMA can be a signal\n",
    "  - proxy for value: average price for n day might represent true value for company; if we see large excursion in price from SMA price will eventually come back to average\n",
    "- Quantifying:\n",
    "  - compare current price with SMA and construct a ratio\n",
    "  - SMA[t] = (price[t]/price[t-n:t].mean()) - 1\n",
    "  - +ve price above SMA; -ve price below SMA\n",
    "\n",
    "### 3. Bollinger bands (BB)\n",
    "<img alt=\"2_6_7.png\" src=\"images/2_6_7.png\" width=\"550\"> <br/>\n",
    "\n",
    "- Suppose that you have SMA and looking at historical price of the stock; then the question is how much of excursion from SMA is the signal to buy or sell?\n",
    "- With Bollinger bands, add 2 standard deviation above and below the SMA then use at it as trading signals\n",
    "- How to use: look for the times when the price is outside of the BB and crosses inside\n",
    "- If price is outside of +ve std deviation, sell; if price is below -ve std deviation, then buy\n",
    "- Formula:\n",
    "  - BB[t] = (price[t] - SMA[t]) / 2 * std[t]"
   ],
   "metadata": {}
  },
  {
   "cell_type": "markdown",
   "source": [
    "## Quiz: Buy or Sell?\n",
    "\n",
    "<img alt=\"2_6_8.png\" src=\"images/2_6_8.png\" width=\"550\"> <br/>\n",
    "\n",
    "- 1: \n",
    "  - price has gone outside the upper band and now retreating inside the band; this is verification that now it is moving into the SMA; so SELL\n",
    "- 2: \n",
    "  - going from inside to outside which is never a signal; we are looking for the validation that it comes back from outside to inside. This is NADA\n",
    "- 3:\n",
    "  - It is coming from outside to inside and is therefor BUY signal\n",
    "- 4:\n",
    "  - outside to inside case therefore BUY"
   ],
   "metadata": {}
  },
  {
   "cell_type": "markdown",
   "source": [
    "## Normalization:\n",
    "\n",
    "- Here are range of SMA, momentum and BB ranges that they operate on\n",
    "  <img alt=\"2_6_9.png\" src=\"images/2_6_9.png\" width=\"350\"> <br/>\n",
    "- If we were to plug this value into some sort of machine learner then BB will overwhelm the other factors and become the most important one. It might even get worst if we include fundamental factor like PE ratio which ranges from 1 to 300;\n",
    "- Solution is `normalization`; it takes each of these factors and either compresses or stretches them so that they vary on average form -1 to +1. \n",
    "- Formula:\n",
    "  - `normed`: (value - mean) / values.std()\n",
    "  - now it will vary between -1 to + 1 with mean of 0"
   ],
   "metadata": {}
  },
  {
   "cell_type": "markdown",
   "source": [
    "## Summary:\n",
    "\n",
    "- TA are really heuristics that represents someones interpretation or hunch of how a statistical approach to previous price and volume might suggest future price movement\n",
    "- Don't start trading yet with this! there is lot more to learn"
   ],
   "metadata": {}
  },
  {
   "cell_type": "markdown",
   "source": [],
   "metadata": {}
  }
 ],
 "metadata": {
  "orig_nbformat": 4,
  "language_info": {
   "name": "python"
  }
 },
 "nbformat": 4,
 "nbformat_minor": 2
}