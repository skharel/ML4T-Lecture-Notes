{
 "cells": [
  {
   "cell_type": "markdown",
   "source": [
    "# Ensemble learners - bagging and boosting\n",
    "\n",
    "In 1988, Michael Kearns and Leslie Valiant posed the following question: \"Can a set of weak learners be combined to create a single strong learner?\"\n",
    "\n",
    "- The answer came back in 2009 with Netflix 1 million prize competition; the wining team called themselves \"The Ensemble\"\n",
    "- https://en.wikipedia.org/wiki/Netflix_Prize#2009\n",
    "\n",
    "## Ensemble \n",
    "- not one but combination of several\n",
    "- dictionary defination: a group of items viewed as a whole rather then individually"
   ],
   "metadata": {}
  },
  {
   "cell_type": "markdown",
   "source": [
    "## Ensemble learners\n",
    "\n",
    "- creating an ensemble of learners is one way to make the learners you got better\n",
    "- It is not about creating new algorithm buts instead it is about assembling together different algorithms or model to create an ensemble learners\n",
    "- This idea can be used with any model or method you know. for eg combine KNN & regerssion; it's an ensemble. \n",
    "- All algorithm will be trained using same data\n",
    "- To query, the ensemble of learners query each model and with same x and each of them have some y output which we now need to combine\n",
    "- How to combine y from each model?\n",
    "  - for classification: might have each of them vote and pick the result of highest vote! Democracy!\n",
    "  - for regression: take the mean of y\n",
    "- Then test the overall ensemble learner using the test data set aside.\n",
    "\n",
    "![Ensemble learner ](images/3-4_1_ensemble.jpg)\n",
    "\n",
    "## Why ensembles?\n",
    "- lower error\n",
    "- less overfitting\n",
    "  - why? \n",
    "    - Each learner has it's own bias; but when you put them together, it tends to reduce the biases because they are fighting against each other in some sort of way\n",
    "- tastes great\n",
    "- \n"
   ],
   "metadata": {}
  },
  {
   "cell_type": "markdown",
   "source": [],
   "metadata": {}
  }
 ],
 "metadata": {
  "orig_nbformat": 4,
  "language_info": {
   "name": "python"
  }
 },
 "nbformat": 4,
 "nbformat_minor": 2
}