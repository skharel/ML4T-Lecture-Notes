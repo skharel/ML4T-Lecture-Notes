{
 "cells": [
  {
   "cell_type": "markdown",
   "source": [
    "# What is a company worth?"
   ],
   "metadata": {}
  },
  {
   "cell_type": "markdown",
   "source": [
    "## Quiz: What is a company worth?\n",
    "\n",
    "Suppose that a company can reliably produce $1/year. What is this company worth?\n",
    "\n",
    "- Worth $1\n",
    "- $70 because after that you will be dead\n",
    "- worth infinite dollars because it will provide $1/year forever\n",
    "- Between $10 and $25 depending on interest rates"
   ],
   "metadata": {}
  },
  {
   "cell_type": "markdown",
   "source": [
    "## Quiz answer:\n",
    "Between $10 and $25 depending on interest rates:\n",
    "\n",
    "The value of $1 would typically reduce over time, and the sum of the individual $1's generated every year would converge to a finite value."
   ],
   "metadata": {}
  },
  {
   "cell_type": "markdown",
   "source": [
    "## Why company value matters?\n",
    "\n",
    "From the perspective of buying and selling stocks:\n",
    "\n",
    "<img alt=\"2_3_1.png\" src=\"images/2_3_1.png\" width=\"450\">\n",
    "\n",
    "- Value grows monotonically over time, i.e always increasing\n",
    "- True value of company is very distinct and different from the value estimated by the market i.e. what price the stock market says it's worth. \n",
    "- Dark green line in the image represents the stock market value and blue is the true value; this course is about where current stock price is different from true value\n",
    "- Ways to estimate true value of company:\n",
    "  - Intrinsic value: \n",
    "    - based on future dividends\n",
    "    - this relates to, if I own a stock how much money will I get in the future and what's that worth all the future going forward\n",
    "  - Book value:\n",
    "    - based on assets the \n",
    "    - this relates to sum of assets\n",
    "  - Market cap:\n",
    "    - based on value of stock on the market and how many shares are outstanding\n",
    "    - this relates to what market things is the value"
   ],
   "metadata": {}
  },
  {
   "cell_type": "markdown",
   "source": [
    "## The Balch Bond\n",
    "\n",
    "- Lets consider the intrinsic value of our $1/year company. To understand that we need to think about what is the future value of $1? What does this mean?\n",
    "- It means suppose that someone promised use to give $1 in a year from now; how much would you pay them today on the basis of that promise? May be you will pay them 80 cents or may be more. Think about how much would you pay them based on this promise.\n",
    "- Now lets consider three kinds of assets:\n",
    "  - 1: US Government promises to give you $1 in a year\n",
    "  - 2: Tukcer Balch bond where professor Balch promises to give you a $1 in a year\n",
    "  - 3: $1.00 right now\n",
    "\n",
    "Rank these 3 assets from 1-3 where 1 is best and 3 is worst.\n",
    "\n",
    "<img alt=\"2_3_2.png\" src=\"images/2_3_2.png\" width=\"350\">"
   ],
   "metadata": {}
  },
  {
   "cell_type": "markdown",
   "source": [
    "## The value of a future dollar\n",
    "\n",
    "- A real dollar right now is worth $1 and is worth the most then any future promises made by anyone.\n",
    "- In future the value of $1 is not worth as much as $1 even if it comes from US Government. So, how should we estimate the value of dollars delivered in the future?\n",
    "- Additionally, future promise may fall through for eg: Balch bond. So it amounts to `risk` and it all boils down to `interest rate`\n",
    "- We are trying to figure out the present value of the dollar (PV) that will be delivered in the future (FV); so PV is worth some fraction of FV. Here is the `formula:` <br/>\n",
    "    <img alt=\"2_3_3.png\" src=\"images/2_3_3.png\" width=\"200\"> <br/>\n",
    "     where IR is the interest rate; i is how far in the future will this payment be delivered\n",
    "- If it is going to be right now, i = 0 and the denominator is 1 thus making PV = FV\n",
    "- 1 year from now it is: (1 + IR)<sup>1</sup>\n",
    "\n",
    "### Eg for US Govt Bond: \n",
    "- Suppose US Govt IR = 1%\n",
    "- then present value of that $1 promise from us govt is worth: $1/(1 + 1.01) = $0.99\n",
    "- so, today you will lend 99 cent to us govt for promise to pay $1 in a year from today\n",
    "\n",
    "### Eg for Balch Bond:\n",
    "- Balch bond is certainly less attractive then US Govt. So, how can Balch bond attract (or compete) with US Govt? Offer more IR\n",
    "- Suppose it is 5% for Balch bond\n",
    "- PV of $1 is then: $1/(1 + 0.05) = $0.95; so pay Balch 95 cents for a promise to pay $1 in future\n",
    "\n",
    "### Future value of dollar based on IR\n",
    "<img alt=\"2_3_4.png\" src=\"images/2_3_4.png\" width=\"250\">\n"
   ],
   "metadata": {}
  },
  {
   "cell_type": "markdown",
   "source": [
    "## Intrinsic value\n",
    "\n",
    "- 1st way to estimate value of company\n",
    "- Back to our question we started with, what is the value of the company that pays $1/year?\n",
    "- IR relates to the risk; more risky, more IR\n",
    "- This is called the `discount rate` (DR); the discount rate is higher if you trust the company less i.e. more risky; it is lower if it is certain to pay you that dividend every year.\n",
    "- Calculating `Intrinsic Value` based on discount rate:  FV/DR <br/>\n",
    "<img alt=\"2_3_5.png\" src=\"images/2_3_5.png\" width=\"350\">\n",
    "\n",
    "- the company is worth $20 if it produces $1 every year!"
   ],
   "metadata": {}
  },
  {
   "cell_type": "markdown",
   "source": [
    "## Intrinsic value Quiz:\n",
    "\n",
    "<img alt=\"2_3_6.png\" src=\"images/2_3_6.png\" width=\"350\">"
   ],
   "metadata": {}
  },
  {
   "cell_type": "markdown",
   "source": [
    "answer is #2/0.05 = $50\n",
    "- future value is $2"
   ],
   "metadata": {}
  },
  {
   "cell_type": "markdown",
   "source": [
    "## Book Value\n",
    "\n",
    "- 2nd way to estimate value of company\n",
    "- classic definition: total assets minus intangible assets and liabilities\n",
    "- Eg: <br/>\n",
    "  <img alt=\"2_3_7.png\" src=\"images/2_3_7.png\" width=\"350\">\n",
    "\n",
    "- Final answer is 40 + 15 - 15 - 10 = 30 \n",
    "- In other words, don't count intangible assets that are hard to put price on"
   ],
   "metadata": {}
  },
  {
   "cell_type": "markdown",
   "source": [
    "## Market Capitalization\n",
    "\n",
    "- 3rd way where we let market decide\n",
    "- It simply price per share and number of share owned by other people\n",
    "- market cap = #shares * price_per_share"
   ],
   "metadata": {}
  },
  {
   "cell_type": "markdown",
   "source": [
    "## Why information affects stock price?\n",
    "\n",
    "- Why does news/information affects stock price?\n",
    "- It is because it affects intrinsic value and/or book value"
   ],
   "metadata": {}
  },
  {
   "cell_type": "markdown",
   "source": [
    "## Quiz - Would you buy this stock?\n",
    "\n",
    "### Part 1: Figure out valuation\n",
    "<img alt=\"2_3_8.png\" src=\"images/2_3_8.png\" width=\"350\">\n",
    "\n",
    "Q1: 10 * 10 - 20 = 80M <br/>\n",
    "Q2: 1M/0.05 = 20M <br/>\n",
    "Q3: 75 * 1M = 75M\n",
    "\n",
    "### Part 2: Would you buy this stock?\n",
    "Would you buy this stick given that book value is 80M, Intrinsic Value is 20M & Market cap is 75M?\n",
    "- Yes\n",
    "- No\n"
   ],
   "metadata": {}
  },
  {
   "cell_type": "markdown",
   "source": [
    "Part 2 answer: yes <br/>\n",
    "Reason: <br/>\n",
    "Yes, you should buy it right away!\n",
    "\n",
    "Ignoring the intrinsic value, if you buy the entire company off the market (for $75M) and immediately sell it for its book value ($80M), you have a $5M profit right there!\n",
    "\n",
    "Even if you are buying some stocks (instead of the whole company), the stock price is expected to increase (as it is currently undervalued)."
   ],
   "metadata": {}
  },
  {
   "cell_type": "markdown",
   "source": [
    "## Summary\n",
    "\n",
    "- Many trading strategies look for deviation between intrinsic value vs market cap\n",
    "- Short: if intrinsic value drops below market cap (stock price is high in this case)\n",
    "- Buy: if market cap is low then intrinsic value (i.e dividends is high and market cap is low)\n",
    "- Book value: provides lowest price; prices of stock normally doesn't go below book value; in case it does, a predatory buyer might buy it and sell the company in pieces"
   ],
   "metadata": {}
  }
 ],
 "metadata": {
  "orig_nbformat": 4,
  "language_info": {
   "name": "python"
  }
 },
 "nbformat": 4,
 "nbformat_minor": 2
}