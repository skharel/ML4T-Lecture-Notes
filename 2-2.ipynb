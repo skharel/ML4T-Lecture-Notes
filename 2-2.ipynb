{
 "cells": [
  {
   "cell_type": "markdown",
   "source": [
    "# Market Mechanics\n",
    "\n",
    "When you are purchasing stocks in online platform, what happens when you click \"BUY\"?"
   ],
   "metadata": {}
  },
  {
   "cell_type": "markdown",
   "source": [
    "## What is in an order?\n",
    "\n",
    "- `Buy or sell`: Buying or selling?\n",
    "- `Symbol`: order for what?\n",
    "- `\\#Shares`: How many you to buy or sell for a symbol?\n",
    "- `Limit or Market order`:\n",
    "  - Market means you are willing to accept a good price but essentially whatever price the market is currently bearing\n",
    "  - Limit means you don't want to do worse then a particular price; don't want to buy above certain price or sell below certain price\n",
    "- `Price`: for limit order have to tell what the corresponding price is\n"
   ],
   "metadata": {}
  },
  {
   "cell_type": "markdown",
   "source": [
    "## The order book\n",
    "\n",
    "- Key construct at most exchanges; each exchange keeps an order book for every stock that they buy or sell.\n",
    "- Suppose order of: BUY,IBM,100,LIMIT,99.95 was issued\n",
    "- Suppose this order makes it to NYSE and is the `very first order of the day`; NYSE will start to use this order as the basis to start building their order book.    \n",
    "  - `BID` 99.95 100  (Entry in order book and this is public knowledge)\n",
    "- If more order for buy comes in for IBM 99.95 the order book might look like this:\n",
    "  - BID 99.95 1000\n",
    "\n",
    "- Now suppose sell order starts to comes in: SELL,IBM,1000,LIMIT,100; but in our order book no one has yet asked to buy 1000 shares of IBM for $100. So exchange will have to add it to order book\n",
    "  - `ASK` 100.00 1000\n",
    "\n",
    "- As more and more orders starts to come in, here is how order book may start to look like:\n",
    "  \n",
    "  <img alt=\"2-2_1.png\" src=\"images/2-2_1.png\" width=\"300\">\n"
   ],
   "metadata": {}
  },
  {
   "cell_type": "markdown",
   "source": [],
   "metadata": {}
  }
 ],
 "metadata": {
  "orig_nbformat": 4,
  "language_info": {
   "name": "python"
  }
 },
 "nbformat": 4,
 "nbformat_minor": 2
}