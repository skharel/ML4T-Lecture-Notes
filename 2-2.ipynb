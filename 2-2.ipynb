{
 "cells": [
  {
   "cell_type": "markdown",
   "source": [
    "# Market Mechanics\n",
    "\n",
    "When you are purchasing stocks in online platform, what happens when you click \"BUY\"?"
   ],
   "metadata": {}
  },
  {
   "cell_type": "markdown",
   "source": [
    "## What is in an order?\n",
    "\n",
    "- `Buy or sell`: Buying or selling?\n",
    "- `Symbol`: order for what?\n",
    "- `\\#Shares`: How many you to buy or sell for a symbol?\n",
    "- `Limit or Market order`:\n",
    "  - Market means you are willing to accept a good price but essentially whatever price the market is currently bearing\n",
    "  - Limit means you don't want to do worse then a particular price; don't want to buy above certain price or sell below certain price\n",
    "- `Price`: for limit order have to tell what the corresponding price is\n"
   ],
   "metadata": {}
  },
  {
   "cell_type": "markdown",
   "source": [
    "## The order book\n",
    "\n",
    "- Key construct at most exchanges; each exchange keeps an order book for every stock that they buy or sell.\n",
    "- Suppose order of: BUY,IBM,100,LIMIT,99.95 was issued\n",
    "- Suppose this order makes it to NYSE and is the `very first order of the day`; NYSE will start to use this order as the basis to start building their order book.    \n",
    "  - `BID` 99.95 100  (Entry in order book and this is public knowledge)\n",
    "- If more order for buy comes in for IBM 99.95 the order book might look like this:\n",
    "  - BID 99.95 1000\n",
    "\n",
    "- Now suppose sell order starts to comes in: SELL,IBM,1000,LIMIT,100; but in our order book no one has yet asked to buy 1000 shares of IBM for $100. So exchange will have to add it to order book\n",
    "  - `ASK` 100.00 1000\n",
    "\n",
    "- As more and more orders starts to come in, here is how order book may start to look like:\n",
    "  \n",
    "    <img alt=\"2-2_1.png\" src=\"images/2-2_1.png\" width=\"350\">\n",
    "\n",
    "- With this order book, now suppose we got new order: BUY,IBM,100,MARKET. <br/>\n",
    "  Exchange looks at its order book and see that there are lot of order for SELL. Exchange has to give the client lowest price which is 3rd row in our order book. So exchange gives to the client 100 shares out of 1000 from our order book @ $100. Here is the state of our order book after this transaction:\n",
    "  \n",
    "  <img alt=\"2-2_2.png\" src=\"images/2-2_2.png\" width=\"350\">\n",
    "\n",
    "- BID: Buy order\n",
    "- ASK: Sell orde"
   ],
   "metadata": {}
  },
  {
   "cell_type": "markdown",
   "source": [
    "## Quiz: Up or Down?\n",
    "\n",
    "Based on the order book below, do you think the price of the stock will go:\n",
    "\n",
    "- up \n",
    "- down \n",
    "\n",
    "<img alt=\"2-2_1.png\" src=\"images/2-2_1.png\" width=\"350\">\n",
    "\n",
    "=> Down because there is more selling pressure"
   ],
   "metadata": {}
  },
  {
   "cell_type": "markdown",
   "source": [
    "## How orders affect the order book:\n",
    "\n",
    "Suppose this is the state og order book at the moment\n",
    "\n",
    "(assume all for IBM shares and symbol is omitted)\n",
    "\n",
    "<img alt=\"2-2_1.png\" src=\"images/2-2_1.png\" width=\"350\">\n",
    "\n",
    "- Order comes in: BUY,100,MARKET\n",
    "  - 3rd row now becomes 900 because it the row with best price for some one to buy\n",
    "\n",
    "- Next order comes in: BUY,100,LIMIT,100.02\n",
    "  - 3rd row satisfies this order; order executed @ $100 & 3rd row will be 800 now\n",
    "\n",
    "- Next order: SELL,175,MARKET\n",
    "  - We got 4th row where someone wants to sell 100 shares which we can match for this order; 100 sold @ 99.95\n",
    "  - From 5th row we will take 50 @ 99.90\n",
    "  - for the last 25, we will take 25 from last row @ 99.85\n",
    "\n",
    "New state of order book:\n",
    "\n",
    "<img alt=\"2-2_3.png\" src=\"images/2-2_3.png\">\n",
    "\n",
    "- In the execution side, we are seeing the price of order is decreasing with each executions; this is because of sell pressure then buy pressure"
   ],
   "metadata": {}
  },
  {
   "cell_type": "markdown",
   "source": [
    "## How orders get to the exchange\n",
    "\n",
    "\n",
    "### Simple case\n",
    "\n",
    "- you are the buyer\n",
    "- your order goes to your broker\n",
    "- your broker is connected to multiple exchanges and determines where to route your order; broker queries each exchange to see where they can get best price for you. Based on where they can get best price, broker routes it to one of the exchange, which executes the order and finally you get confirmation\n",
    "\n",
    "<img alt=\"2-2_4.png\" src=\"images/2-2_4.png\" width=\"450\">\n",
    "\n",
    "### Another scenario\n",
    "\n",
    "- Suppose another client of the broker, JOE wants to sell some stocks\n",
    "- Broker can now internally connect these clients instead of going to exchange; the advantage is that they can now avoid having to pay fee to exchange. However, according to the law in this case broker must provide the price as good as they would have got if this order was routed to the exchange. Also, this transaction must be recorded at one of the broker and  usually it's recorded at the exchange where that particular stock is homed.\n",
    "\n",
    "<img alt=\"2-2_5.png\" src=\"images/2-2_5.png\" width=\"450\">\n",
    "\n",
    "### Another scenario\n",
    "\n",
    "- Lisa wants to see to but uses different broker.\n",
    "- There is another entity called Dark Pool that usually acts as intermediary between brokerages and exchanges\n",
    "- Dark Pool is looking at the order books of the various exchanges and they are often making predictions about which direction stocks are going to go. They actually pay the brokers to see the order before it gets to the exchanges and if they see an advantageous trade and they will take it\n",
    "\n",
    "<img alt=\"2-2_6.png\" src=\"images/2-2_6.png\" width=\"450\">\n"
   ],
   "metadata": {}
  },
  {
   "cell_type": "markdown",
   "source": [
    "## How hedge funds exploit market mechanics\n",
    "\n",
    "\n",
    "### 1st exploitation\n",
    "- you live in seattle and placing order using ETrade; so order comes from Seattle -> ATL -> NYC\n",
    "- suppose hedge fund is also looking at the order book and say that it's computer is 100 meters away from exchanges; say it takes 0.3 microsecond to travel this 100m\n",
    "- you being in Seattle, about 2500 miles, it will take 12 millisecond to get order book information to you and another 12ms at least for your order to reach the exchanges\n",
    "- Here is how order book exploit works:\n",
    "  - Hedge Fund (HF) observes order book (only 100 m away)\n",
    "  - HF thinks stock will go up based on order book, thinks stock will go up and therefore buys stocks\n",
    "  - You think same think and you want to buy (2500 miles away!); \n",
    "  - while your order is coming in, meanwhile price goes up\n",
    "  - HF sells you the stock at higher price it just bought few moments ago\n",
    "  \n",
    "<img alt=\"2-2_7.png\" src=\"images/2-2_7.png\" width=\"600\">\n",
    "\n",
    "- HF bought stock, watched it go up and sold it within in few micro second by exploitng people living across country\n",
    "\n",
    "### 2nd exploitation: Geographic Arbitrage exploit\n",
    "\n",
    "- Hedge fund places computer close to exchanges and connects them with ultra high speed dedicated connection\n",
    "- It observes price is higher in London and lower in NYSE\n",
    "- HF will immediately buy in NYSE and sell in London\n",
    "  - this sort of differences rarely arise and when it does, it is just inefficiencies of market mechanics\n",
    "  - the differences are usually fractions of pennies\n",
    "  - when these differences arise, HF are there to pick on it\n",
    "\n",
    "<img alt=\"2-2_8.png\" src=\"images/2-2_8.png\" width=\"600\">"
   ],
   "metadata": {}
  },
  {
   "cell_type": "markdown",
   "source": [
    "## Additional order types\n",
    "\n",
    "Exchanges only supports order of types:\n",
    "  - Buy Sell\n",
    "  - Market Limit\n",
    "\n",
    "However, there are other order types broker supports:\n",
    "  - Stop Loss\n",
    "    - sell when stocks drop to certain price\n",
    "  - Stop gain\n",
    "    - sell when stocks reaches certain higher price, sell it\n",
    "  - Trailing stop\n",
    "    - combination of stop loss and automatically changing value when that criteria is met\n",
    "  - `Selling short`\n",
    "    - Taking a negative position i.e. you sell a stock short if you believe that the price of stock is going to go down\n",
    "    - you are selling a stock that you don't even own\n",
    "    - it's possible because broker facilitates it for you\n",
    "\n",
    "Broker holds your order until the said condition are met and then routes it to exchanges"
   ],
   "metadata": {}
  },
  {
   "cell_type": "markdown",
   "source": [
    "## Mechanics of short selling: Entry\n",
    "\n",
    "- Imagine the scenario where you want to take short position on IBM which is currently selling at $100\n",
    "- Joe holds 100 shares of IBM; he wants to hold onto IBM but he's willing to lend you those shares of IBM. In fact Joes's broker will take care of it for him and Joe might not even know that he is lending you those shares he owns\n",
    "- Lets suppose Lisa thinks that IBM will go up and she wants to buy IBM\n",
    "- Here is one way it works now: \n",
    "  - You borrow 100 shares from Joe, \n",
    "  - then immediately sell to Lisa for $100 resulting in $10000 in your account  \n",
    "  - now you owe Joe 100 shares\n",
    "  - Lisa has 100 shares of IBM\n",
    "\n",
    "<img alt=\"2-2_9.png\" src=\"images/2-2_9.png\" width=\"600\">\n",
    "\n",
    "### Problem: Joe wants his 100 shares back\n",
    "- now you have to go buy it from someone and give it back to Joe\n",
    "- we will deal with it a little bit later"
   ],
   "metadata": {}
  },
  {
   "cell_type": "markdown",
   "source": [
    "## Quiz: What if you shorted IBM?\n",
    "\n",
    "Suppose you shorted 100 shares at $100 price; then for next few days you watch it go down and decided to buy to close at 100 shares. What is your net return?\n",
    "\n",
    "<img alt=\"2-2_10.png\" src=\"images/2-2_10.png\" width=\"600\">\n",
    "\n",
    "=> Answer: with $10 drop, you made 100 * $10 = $1000 profit"
   ],
   "metadata": {}
  },
  {
   "cell_type": "markdown",
   "source": [
    "## Mechanics of short selling: Exit\n",
    "\n",
    "- Back to our situation where we short sold IBM by borrowing from Joe and selling to lisa\n",
    "\n",
    "### Case where IBM price dropped to $90\n",
    "\n",
    "- So you approach Lisa and ask if you can buy it back. Lisa say's no which is a problem; however, in market there are lots of other people who have stocks of IBM and will be willing to sell \n",
    "- Lisa is out of picture and say Nate, who has 100 share is willing to sell them\n",
    "- you buy from Nate and give them back to joe & fulfilled your obligation to joe\n",
    "  - you gave Nate $9000\n",
    "  - your account now has $1000 and no longer obligation to anyone!\n",
    "\n",
    "<img alt=\"2-2_11.png\" src=\"images/2-2_11.png\" width=\"600\">\n",
    "\n",
    "- Your broker is sitting in between all these actors and making it happen\n",
    "\n",
    "### What can go wrong - Case where IBM price went up to $150 instead of going down to $90\n",
    "\n",
    "- We are back to your setup at the end of entry\n",
    "- IBM went up to $150 and you have obligation to Joe\n",
    "- Nate is now selling to you at $150, a total of $15000; but your account only had $10000. Now you are out of another $5000 to fulfill this purchase\n",
    "- When you short a stock and price goes up, you can lose money and it can be significant\n",
    "\n",
    "<img alt=\"2-2_12.png\" src=\"images/2-2_12.png\" width=\"600\">"
   ],
   "metadata": {}
  }
 ],
 "metadata": {
  "orig_nbformat": 4,
  "language_info": {
   "name": "python"
  }
 },
 "nbformat": 4,
 "nbformat_minor": 2
}