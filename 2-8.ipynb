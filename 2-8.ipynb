{
 "cells": [
  {
   "cell_type": "markdown",
   "source": [
    "# Efficient Markets Hypothesis"
   ],
   "metadata": {}
  },
  {
   "cell_type": "markdown",
   "source": [
    "## Our hypothesis\n",
    "\n",
    "- So far we have been operating under assumptions:\n",
    "  - For technical analysis we assume there is information in historical price and volume data that we can discover and exploit in advance of market. \n",
    "  - For Fundamental analysis we assume there is information in fundamental data like earnings that can be exploited and trade upon in advance of the market\n",
    "- Efficient Market Hypothesis says we are wrong about both"
   ],
   "metadata": {}
  },
  {
   "cell_type": "markdown",
   "source": [
    "## EMR assumptions\n",
    "\n",
    "<img alt=\"2_8_1.png\" src=\"images/2_8_1.png\" width=\"350\"> <br/>\n",
    "\n",
    "- Postulated by Jukes Regnault in 1863\n",
    "- Eugene Fama carried those ideas further in the 1960's and it became his PHD thesis; Fama recently received a Nobel Prize; so we know these are good ideas.\n",
    "- Assumptions it makes:\n",
    "  - Large number of investors: \n",
    "    - interacting in the market for profit; so they have incentive to find opportunities where price of stock is out of line with what it's true value is. Because there are so many investors working simultaneously, any time information comes out price is gonna move\n",
    "  - New information arrive randomly:\n",
    "    - random rates and times for different stocks but it arrives constantly\n",
    "  - Prices adjust quickly:\n",
    "    - investors are paying attention to information arriving and therefore prices are adjusting quickly\n",
    "  - Prices reflect all available information:\n",
    "    - all this information trickling in is acted upon by the investors and the prices adjust quickly to that information and therefor current price reflect all of the information about that stock"
   ],
   "metadata": {}
  },
  {
   "cell_type": "markdown",
   "source": [
    "## Origin of information\n",
    "\n",
    "- price/volume:\n",
    "  - public, rapid, quick; this is the basis of TA\n",
    "- Fundamental:\n",
    "  - public, quarterly reported and points more to the root of the value of the company then just the price volume\n",
    "- Exogenous:\n",
    "  - information about the world that effects the company; eg information about price of oil for airline stock\n",
    "- Company insiders:\n",
    "  - very important and secretive type of information\n",
    "\n",
    "- This is not the exhaustive list for origin of information"
   ],
   "metadata": {}
  },
  {
   "cell_type": "markdown",
   "source": [
    "## 3 from of the EMH\n",
    "\n",
    "- there are 3 versions of EMH that go from weak to strong\n",
    "\n",
    "### 1. Weak\n",
    "- says that future prices cannot be predicted by analyzing historical prices\n",
    "- idea here is current price reflects all information that we might now and so looking at historical prices we cannot predict what will happen next. It does, however, leave room for fundamental analysis\n",
    "\n",
    "### 2. Semi Strong\n",
    "- says that prices adjust immediately to new public information; so for instance when company reports their quarterly reports, the prices react immediately to that information.\n",
    "- this prohibits even fundamental analysis; one possibility left here is insider information.\n",
    "\n",
    "### 3. Strong:\n",
    "- prices reflect all information public and private\n",
    "- It is essentially impossible to make money by holding a portfolio other then the market portfolio. \n"
   ],
   "metadata": {}
  },
  {
   "cell_type": "markdown",
   "source": [
    "## Quiz\n",
    "\n",
    "<img alt=\"2_8_2.png\" src=\"images/2_8_2.png\" width=\"350\"> <br/>"
   ],
   "metadata": {}
  },
  {
   "cell_type": "markdown",
   "source": [
    "## Is the EMH Correct?\n",
    "\n",
    "- If it is correct, then a lot of what we are trying to do in this course is not possible; namely we can't beat the market using any of the strategies we might be looking at.\n",
    "- However, there are evidences that certain versions of hypothesis are not correct; and there are number of very successful hedge funds out there that would seem to indicate that you can make money in market by ingesting in things other then just the market portfolio.\n",
    "- Strong version of EMH is least solid; for eg, with insider people have profited (and also gone to jail) but is an evidence to refute strong EMH"
   ],
   "metadata": {}
  }
 ],
 "metadata": {
  "orig_nbformat": 4,
  "language_info": {
   "name": "python"
  }
 },
 "nbformat": 4,
 "nbformat_minor": 2
}