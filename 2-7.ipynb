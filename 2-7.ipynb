{
 "cells": [
  {
   "cell_type": "markdown",
   "source": [
    "# Dealing with Data"
   ],
   "metadata": {}
  },
  {
   "cell_type": "markdown",
   "source": [
    "# How data is aggregated\n",
    "\n",
    "<img alt=\"2_7_1.png\" src=\"images/2_7_1.png\" width=\"450\"> <br/>\n",
    "\n",
    "- `tick`: finest resolution of stock data is called tick; a tick represents a successful buy-sell match or a successful transaction.\n",
    "- there is no guarantee that a trade is going to happen in any particular minute or hour. It happens when it happens\n",
    "- In this eg green dot is for one exchange while red is for another one; also prices at different exchanges aren't guaranteed to be the same\n",
    "- For highly liquid stocks, there may be thousands of transactions every second\n",
    "- Tick data is consolidated into minute by minute or hour by hour chunks; suppose the dotted line represents daily boundaries; then we collected all the data together within each minute and represent it as open, high, low, close and volume\n",
    "- open: first transaction in a time period\n",
    "- high: highest price in the period\n",
    "- low: lowest price in the period\n",
    "- close: last transaction of the period\n",
    "- volume: total volume of the period\n",
    "- you can apply all of these concepts at small time periods but it requires more computing power and storage"
   ],
   "metadata": {}
  },
  {
   "cell_type": "markdown",
   "source": [
    "## Price anomaly\n",
    "\n",
    "<img alt=\"2_7_2.png\" src=\"images/2_7_2.png\" width=\"450\"> <br/>\n",
    "\n",
    "Here  is an example of rapid price drop that appears in graph but it is due to stock split\n",
    "\n",
    "\n"
   ],
   "metadata": {}
  },
  {
   "cell_type": "markdown",
   "source": [
    "## Stock Splits\n",
    "\n",
    "- Why do stock splits? One common reason is price is too high. \n",
    "- Why is high price a problem? more price to pay for a block of 100 shares; people can buy smaller block of shares but for options trading, where stocks are usually traded with regard to 100 shares; so options covering suddenly become very expensive and less liquid.\n",
    "- Even in case of buying one stock, say for kid's account that you are setting up, it can be a problem even when buying few shares. \n",
    "- If you are building a finely tuned proportion of each stock in your portfolio, if some stocks price are too high it becomes difficult to get the fine resolution that you want.\n",
    "- So when price gets too high company take 1 share, eg that costs $300 and bring the price to $75 by doing 4:1 split\n",
    "\n",
    "\n",
    "### Problem\n",
    "\n",
    "- Suppose you got this above split data and the computer is reading it to analyze for trading opportunities; well your algorithm might discover that the split was a shorting opportunity to reap significant reward. This is however wrong; so if you want to trade using this data, then you have account for all the splits which becomes a problem\n",
    "\n",
    "### Solution\n",
    "\n",
    "- `adjusted close` or `adjusted prices`: the idea is to create a timeline of prices that are adjusted to account for these changes such that you can look back over adjusted close, simulate buying at a particular time and seeing how the value increases over time accurately without having to account for the splits.\n",
    "- With above data here is what we do:\n",
    "  - first 2:1 split: we go back to all the historical data and adjust it by dividing by 2\n",
    "  - then when we get to 4:1 split, we have to first divide by 2 and then by 4\n",
    "<img alt=\"2_7_3.png\" src=\"images/2_7_3.png\" width=\"450\"> <br/>"
   ],
   "metadata": {}
  },
  {
   "cell_type": "markdown",
   "source": [
    "## Quiz: Split adjustment\n",
    "\n",
    "Fill in the adjusted price\n",
    "<img alt=\"2_7_4.png\" src=\"images/2_7_4.png\" width=\"450\"> <br/>\n",
    "\n",
    "=> Answer: 25, 50, 100\n"
   ],
   "metadata": {}
  },
  {
   "cell_type": "markdown",
   "source": [
    "## Dividends\n",
    "\n",
    "- one way to calculate company value is based on dividends\n",
    "- companies pay regularly dividends to their owners; dividends can have significant impact to what happens to the price of stocks and here is why: <br/>\n",
    "  <img alt=\"2_7_5.png\" src=\"images/2_7_5.png\" width=\"450\"> <br/>\n",
    "\n",
    "  The value of company before dividend gets paid is $101 and after is $100; don't forget after it is paid, you got your $1 too!\n",
    "  "
   ],
   "metadata": {}
  },
  {
   "cell_type": "markdown",
   "source": [
    "## Adjusting for dividends\n",
    "\n",
    "- Just like split, you adjust the price by % of dividend going back in history; the rationale is that if you were to hold the stock from some time ago and hold it all the way through dividend payment, then the current price reflects the increase in your value of holding along with dividend paid; so the adjustment is achieving its purpose which is to allow us not to worry about dividends and splits. So you can basically go back in time, buy the share and see how much value it accumulates. <br/>\n",
    "<img alt=\"2_7_6.png\" src=\"images/2_7_6.png\" width=\"450\"> <br/>\n",
    "\n",
    "- `In our data we have both actual and adjusted; and almost in every instance assume we are using adjusted prices in our calculation`"
   ],
   "metadata": {}
  }
 ],
 "metadata": {
  "orig_nbformat": 4,
  "language_info": {
   "name": "python"
  }
 },
 "nbformat": 4,
 "nbformat_minor": 2
}