{
 "cells": [
  {
   "cell_type": "markdown",
   "source": [
    "## How machine learning is used at a hedge fund overview"
   ],
   "metadata": {}
  },
  {
   "cell_type": "markdown",
   "source": [
    "## Supervised regression learning\n",
    "\n",
    "lets break it word by word\n",
    "\n",
    "### regression:\n",
    "- regression: means we are trying to make numerical approximation or numerical prediction (as opposed to classification learning where we might tbe trying to classify object into one of several types)\n",
    "\n",
    "### supervised:\n",
    "- supervised means we show machine the x and also the correct answer y; we show machine many many egs of (x,y).\n",
    "\n",
    "### learnings:\n",
    "- learning means training with data."
   ],
   "metadata": {}
  },
  {
   "cell_type": "markdown",
   "source": [
    "### algorithms to solve supervised machine learning problems:\n",
    "\n",
    "there are lot of algorithms that solves this problem and are called supervised regression learning techniques.\n",
    "\n",
    "- linear regression (parameteric)\n",
    "  - finds parameter for a model based on the data (then we throw the data away)\n",
    "- k nearest neighbor (KNN) (instance based)\n",
    "  - we keep all the data; when it is time to make the prediction, it consults this data and makes prediction. This is why it is instance based\n",
    "- decision tree\n",
    "- decision forests"
   ],
   "metadata": {}
  },
  {
   "cell_type": "markdown",
   "source": [],
   "metadata": {}
  }
 ],
 "metadata": {
  "orig_nbformat": 4,
  "language_info": {
   "name": "python"
  }
 },
 "nbformat": 4,
 "nbformat_minor": 2
}