{
 "cells": [
  {
   "cell_type": "markdown",
   "source": [
    "## How machine learning is used at a hedge fund overview"
   ],
   "metadata": {}
  },
  {
   "cell_type": "markdown",
   "source": [
    "## Supervised regression learning\n",
    "\n",
    "lets break it word by word\n",
    "\n",
    "### regression:\n",
    "- regression: means we are trying to make numerical approximation or numerical prediction (as opposed to classification learning where we might tbe trying to classify object into one of several types)\n",
    "\n",
    "### supervised:\n",
    "- supervised means we show machine the x and also the correct answer y; we show machine many many egs of (x,y).\n",
    "\n",
    "### learnings:\n",
    "- learning means training with data."
   ],
   "metadata": {}
  },
  {
   "cell_type": "markdown",
   "source": [
    "### algorithms to solve supervised machine learning problems:\n",
    "\n",
    "there are lot of algorithms that solves this problem and are called supervised regression learning techniques.\n",
    "\n",
    "- linear regression (parameteric)\n",
    "  - finds parameter for a model based on the data (then we throw the data away)\n",
    "- k nearest neighbor (KNN) (instance based)\n",
    "  - we keep all the data; when it is time to make the prediction, it consults this data and makes prediction. This is why it is instance based\n",
    "- decision tree\n",
    "- decision forests"
   ],
   "metadata": {}
  },
  {
   "cell_type": "markdown",
   "source": [
    "## Backtesting\n",
    "\n",
    "- Does the forecast really predict the future? if yes how accurately?\n",
    "- Backtesting!\n",
    "\n",
    "### Training data:\n",
    "\n",
    "- To test the capability of our approach, lets roll back the time and let our system to only look at the data up to certain point of time, build a model and let it make predictions (forecast) into the simulated future.\n",
    "- Now based on this forecast, we can place order to either be long in some stocks or short them. Let's put these order in trading simulator and see what happens.\n",
    "\n",
    "- As the time passes, into the future and we get more data, we can train our model with new training data; this process repeats again and again.\n"
   ],
   "metadata": {}
  },
  {
   "cell_type": "markdown",
   "source": [
    "## Problems with regression:\n",
    "\n",
    "- Performance in the real world might not be as awesome as back testing.\n",
    "- Few problems with regression based forecasting:\n",
    "  - noisy and uncertain\n",
    "  - challenging to estimate confidence\n",
    "  - holding time, allocation\n",
    "\n",
    "## Policy learning RL:\n",
    "some the issue with foreacast based can be addressed using Reinforcement learning where instead of making forecast of future price, we can have system learn a policy; the policy tells the system whether to buy or sell a stock. We will get to this alternative to regression based approach later in the class"
   ],
   "metadata": {}
  },
  {
   "cell_type": "markdown",
   "source": [],
   "metadata": {}
  }
 ],
 "metadata": {
  "orig_nbformat": 4,
  "language_info": {
   "name": "python"
  }
 },
 "nbformat": 4,
 "nbformat_minor": 2
}