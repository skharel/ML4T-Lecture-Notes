{
 "cells": [
  {
   "cell_type": "markdown",
   "source": [
    "# So you want to be a hedge fund manager?\n",
    "\n",
    "- Intro to computational investing\n",
    "\n",
    "\n",
    "## What motivates a portfolio manager?\n",
    "- It depends on what type of fund you manage and what your incentives are\n",
    "- Motivation probably depends on compensation; and your compensation depends on the type of fund you manage and how well your fund performs"
   ],
   "metadata": {}
  },
  {
   "cell_type": "markdown",
   "source": [
    "## Types of funds\n",
    "\n",
    "- 3 broad classes we will look at: ETF, Mutual Fund & Hedge Fund\n",
    "\n",
    "ETF:\n",
    "  - Exchange traded funded (Electronically traded funds)\n",
    "  - ETF very transparent and liquid\n",
    "\n",
    "\n",
    "Mutual:\n",
    "  - Mutual fund don't disclose what they are holding except once only every quarter; so they are less transparent (because you don't know what they bought or sold since last quarterly disclosure)\n",
    "  - have to go through broker to trade them\n",
    "\n",
    "Hedge Fund:\n",
    "  - very less transparent\n",
    "  - never discloses what they are investing (or holding) even to the investors\n",
    "  - if they show you good performance, then you might want to invest\n",
    "  - They usually describe what their strategy is to encourage clients to invest\n",
    "\n",
    "![See image 2_1-1.png](images/2_1-1.png)\n",
    "\n",
    "Note on symbols:\n",
    "  - Fairly common practice that ETF has 3 or 4 letter symbols\n",
    "  - Mutual fund have 5 letters"
   ],
   "metadata": {}
  },
  {
   "cell_type": "markdown",
   "source": [
    "## Liquidity and capitalization\n",
    "\n",
    "`Liquid`\n",
    "  - ease with which one can buy or sell shares in particular holding\n",
    "  - stocks and ETF are very liquid (ETF is shares of multiple stocks anyway)\n",
    "    - ETF are liquid because it is easy to trade\n",
    "    - ETF with large volume are highly liquid\n",
    "    \n",
    "`Capitalization (CAP)`\n",
    "  - how much is the company worth according to the number of shares that are outstanding times price of stock\n",
    "    - \\# shares * price per share"
   ],
   "metadata": {}
  },
  {
   "cell_type": "markdown",
   "source": [
    "## Incentives for fund managers: How are they compensated?\n",
    "\n",
    "- Manner in which fund managers are paid incentivizes them to trade or act in certain ways\n",
    "- `Asset Under Management (AUM)` means how much money is being managed by the fund; its important because, part of the compensation is a percentage of the AUM \n",
    "\n",
    "ETFs:\n",
    "  - compensated according to Expense Ratio which is simply some percentage of AUM\n",
    "  - Expense ratio is usually low and vary from 0.01% (or 1 bip) to as high as 1% (fairly high and unusual)\n",
    "  \n",
    "Mutual fund:\n",
    "  - compensated according to Expense ratio just like ETF but the ratio goes from 0.5% to 3.00%. Reason for difference: Mutual fund manager will tell us that the way they manage funds requires much more skill. They have much more discretion than those who are managing ETFs\n",
    "  - ETFs are usually tied to an index. For EG a popular ETF SPY tracks S&P 500; all that ETF managers have to do is ensure they are holding all the stocks that are in S&P 500.\n",
    "  - Mutual fund on the other hand requires more skill and therefore can charge higher for the cost of their skill\n",
    "\n",
    "Hedge Funds:\n",
    "  - follow old model called `Two and Twenty` which means 2% of AUM plus 20% of the profits\n",
    "  - most importantly relates to the component related to profit\n",
    "\n",
    "- If you are investor in one of these funds to be managed, your return is based on how much the value of that fund increases which is subject to what happens to the economy and what happens in the markets."
   ],
   "metadata": {}
  },
  {
   "cell_type": "markdown",
   "source": [
    "## Two and Twenty: Hedge fund compensation\n",
    "\n",
    "- Starting fund: $100,000,000 ($100M)\n",
    "- Say it grew by 15% to $115 M\n",
    "- Compensation:\n",
    "  -  2 part: $100M * 0.02 = $2M\n",
    "  - 20 part: $15M * 0.2 = $3M\n",
    "  - Total compensation for hedge fund manager = $5M\n",
    "\n",
    "- Some question people have is:\n",
    "  - Is the 2 component of the $100M or $115M? \n",
    "    - It depends on the hedge funds and depends on when they take snapshot to do accounting\n",
    "    - Full answer is a blend somewhere in between $110M - $115M\n",
    "\n",
    "\n",
    "- Two and twenty model have changed now a days; it was in the hey day of hedge funds in the 90's and early 2000's. Now a days it is typically lower such as 1 & 10\n",
    "- However, there are some star hedge funds that even charge more"
   ],
   "metadata": {}
  },
  {
   "cell_type": "markdown",
   "source": [
    "## Compensation quiz:\n",
    "\n",
    "![See image 2_1-2.png](images/2_1-2.png)\n",
    "\n",
    "- For expense ratio compensation is tied only to AUM; so AUM is their goal. They do not get part of profit and hence they are not incentivized to make profit and therefore take risk\n",
    "- For 2 & 20 model: because of 2 part, AUM is one of the incentive. Since 20 is tied to profit, profit is another motivation for which they will also be willing to take risk; if things were to go wrong and end up in loss, they still have the 2 part getting them compensation"
   ],
   "metadata": {}
  },
  {
   "cell_type": "markdown",
   "source": [
    "## How funds attract investors\n",
    "\n",
    "- Assuming you want to be Hedge fund manager\n",
    "\n",
    "### Who?\n",
    "First task of hedge fund managers: Who might your investors be?\n",
    "- Individuals\n",
    "  - Wealthy individuals\n",
    "  - Hedge funds can have up to 100 investors; so, they want each of the investment to be typically large \n",
    "- Institutions\n",
    "  - things like very large retirement funds, university foundation\n",
    "  - institutions, typically non profit, with large sum of money that they need to keep somewhere and see accrue in value\n",
    "- Funds of funds\n",
    "  - group together funds of many individuals or institutions\n",
    "\n",
    "### Why?\n",
    "Why invest in your hedge fund? \n",
    "- Track record\n",
    "  - best evidence and motivation for investor\n",
    "  - usually 5 year track record\n",
    "- Simulation + story\n",
    "  - what if you don't have 5 year track record?\n",
    "  - you can simulate or back test your strategy\n",
    "    - but these simulation has be backed by a very compelling story describing the strategy; in other words, gotta have reason for why this method works and it needs to make sense\n",
    "- Good portfolio fit\n",
    "  - how your strategy fits within their portfolio"
   ],
   "metadata": {}
  },
  {
   "cell_type": "markdown",
   "source": [
    "## Hedge fund goals and metrics\n",
    "\n",
    "- your investor wants to know these\n",
    "\n",
    "Goals: making money is definitely one but its little more subtle then that\n",
    "  - Beat a benchmark\n",
    "    - eg beating S&P 500\n",
    "    - when index goes down, may be you can outperform index by going down less\n",
    "  - Absolute return\n",
    "    - provide positive return no matter what\n",
    "    - these funds are usually long/short\n",
    "      - +ve bet on stocks that they think will go up\n",
    "      - -ve bet on stocks that they think will go down\n",
    "    - Their objective is to make slow gradual positive return no matter what\n",
    "  \n",
    "Metrics: how do we measure that the funds are meeting their goals?\n",
    " - Cumulative return\n",
    "   - measure of given the amount of funds I started with, how much more did I end up with after a certain amount of time?\n",
    "   - (last day portfolio value - first day portfolio value) - 1\n",
    " - Volatility\n",
    "   - measure of how rapidly and aggressively portfolio goes up and down in value; lower volatility is better\n",
    "   - volatility is simply measured as the standard deviation of daily returns: daily_returns.std()\n",
    " - Risk/Return\n",
    "   - measure of the ratio of risk to reward\n",
    "   - typically measured using sharpe ratio [SR] (earlier lecture)\n",
    "   - measured as: sqrt(252) * mean(daily_returns - RF) / daily_returns.std()\n",
    "   - SR also called risk adjusted reward: reward divided by risk\n",
    "   - reward is mean(daily_returns - RF); risk is volatility\n",
    "   - multiply by sqrt(252) since we are sampling daily to convert SR to annualized SR\n",
    "   - FYI: 252 is number of trading days in a year"
   ],
   "metadata": {}
  },
  {
   "cell_type": "markdown",
   "source": [],
   "metadata": {}
  }
 ],
 "metadata": {
  "orig_nbformat": 4,
  "language_info": {
   "name": "python"
  }
 },
 "nbformat": 4,
 "nbformat_minor": 2
}