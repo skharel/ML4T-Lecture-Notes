{
 "cells": [
  {
   "cell_type": "markdown",
   "source": [
    "# Regression\n",
    "\n",
    "All about supervised regression learning.\n",
    "\n",
    "Goal: Predict numerical output based on set of numerical input!"
   ],
   "metadata": {}
  },
  {
   "cell_type": "markdown",
   "source": [
    "## Parametric Regression:\n",
    "\n",
    "- way of building a model by representing model with number of parameters\n",
    "- classic approach is to fit a line to the data and this is called linear regression\n",
    "  <img alt=\"3-2_1.png\" src=\"images/3-2_1.png\" width=\"500\">\n",
    "- Equation of line: y = mx + b:\n",
    "  - x is one of the axis and y is another axis\n",
    "  - <i>m & b are the parameters of our model</i>\n",
    "  - our model can be fully described by this model\n",
    "  - To predict: simply plug some x value with our model parameters m & b. This will give our estimate\n",
    "\n",
    "- `Linear regression` approach is how we arrive at m & b\n",
    "  \n",
    "\n",
    "### Polynomial model\n",
    "- for above data we can also try and fit a polynomial instead of a line\n",
    "  <img alt=\"3-2_2.png\" src=\"images/3-2_2.png\" width=\"500\">\n",
    "- more complex the model, more complex the parameter\n",
    "\n",
    "- Once we have our parameters, our model can be represented simply by the parameters. Then we can `throw away the data` and `model can be represented by the parameters!`\n"
   ],
   "metadata": {}
  },
  {
   "cell_type": "markdown",
   "source": [
    "## K Nearest neighbor (KNN) [Non-Parameteric]: \n",
    "\n",
    "- another approach\n",
    "- data centric approach or instance based approach where we keep the data, unlike regression based approach\n",
    "- Suppose K = 3; for the query, find the 3 nearest historical data points (hence a nearest neighbor) to the query and get mean of them for estimate. (Each data points contribute same amount)\n",
    "- can fit a line or complex polynomial to any shape of data with KNN just by following means of neighbor"
   ],
   "metadata": {}
  },
  {
   "cell_type": "markdown",
   "source": [
    "## Kernel regression [Non-Parameteric]:\n",
    "- just like KNN keeps the data around\n",
    "- This method is also similar to KNN but for kernel regression, we weight the contribution of each of the nearest data points according to how distant they are (where as in KNN all data points has same weights)\n"
   ],
   "metadata": {}
  },
  {
   "cell_type": "markdown",
   "source": [
    "## Parametric or non-parameteric?\n",
    "\n",
    "- Things are mathematically well defined and therefore can be modelled mathematically?\n",
    "  - YES: Parameteric\n",
    "  - NO: Non-Parametric\n",
    "    - Overall if you have no guess on what a mathematical model might be, start with non-parametric learners because it can fit any shape of data"
   ],
   "metadata": {}
  },
  {
   "cell_type": "markdown",
   "source": [
    "## Pros and Cons of these two approach:\n",
    "\n",
    "- For parametric model we don't have to store the original data and is therefore space efficient; because of this we can't easily update the model as more data is gathered. Usually we have to do complete re-run of the algorithm to update the model. Thus for parametric model training is slow but querying is fast.\n",
    "\n",
    "- For instance based model, we have to store all the data points. So, it is hard to apply when we have huge data sets but new evidence can be added easily since no parameters need to be learned. Because of this, adding data points doesn't consume additional time which leads to faster training time; however, querying is slow. Because non parameteric avoids assuming certain type of model, be it linear or quadratic or so on, which makes them suitable to fit any type of complex patter where we don't really know what the underlying model is like"
   ],
   "metadata": {}
  },
  {
   "cell_type": "markdown",
   "source": [
    "## Training and Testing\n",
    "\n",
    "### Out of sample testing:\n",
    "- Procedure of separating training and testing data\n",
    "- Input to the model is test data, x & y; \n",
    "- Then test the accuracy of model by using test x data; then out comes some y; question is how close is the output from model to the actual y?\n",
    "- For time series data, train on earlier data and test on future data"
   ],
   "metadata": {}
  },
  {
   "cell_type": "markdown",
   "source": [
    "## API Interface ideas:\n",
    "\n",
    "### For Linear Regression:\n",
    "\n",
    "```\n",
    "    learner = LinRegLearner()\n",
    "    learner.train(xtrain, ytrain)\n",
    "    y = learner.query(xtest)  <--- the y that we will compare with the actual y to evaluate our model\n",
    "```\n",
    "\n",
    "### For KNN\n",
    "\n",
    "```\n",
    "    learner = KNNLeaner(k=3)\n",
    "    learner.train(xtrain, ytrain)\n",
    "    y = learner.query(xtest)  <--- the y that we will compare with the actual y to evaluate our model\n",
    "```\n",
    "\n",
    "both learner has same interface but just different constructor"
   ],
   "metadata": {}
  },
  {
   "cell_type": "markdown",
   "source": [
    "## Example for linear regression - pseudocode\n",
    "\n",
    "```\n",
    "class LinRegLearner:\n",
    "    def __init__():\n",
    "        pass\n",
    "\n",
    "    def train(x, y):\n",
    "        # this should now find a way to fit a line in the training data\n",
    "        self.m, self.b = favorite_linreg_algorithm(x, y)\n",
    "\n",
    "    def query(x):\n",
    "        y = self.m * x + self.b\n",
    "        return y\n",
    "```\n",
    "\n",
    "Build KNN\n",
    "\n"
   ],
   "metadata": {}
  },
  {
   "cell_type": "markdown",
   "source": [],
   "metadata": {}
  }
 ],
 "metadata": {
  "orig_nbformat": 4,
  "language_info": {
   "name": "python",
   "version": "3.6.13",
   "mimetype": "text/x-python",
   "codemirror_mode": {
    "name": "ipython",
    "version": 3
   },
   "pygments_lexer": "ipython3",
   "nbconvert_exporter": "python",
   "file_extension": ".py"
  },
  "kernelspec": {
   "name": "python3",
   "display_name": "Python 3.6.13 64-bit ('ml4t': conda)"
  },
  "interpreter": {
   "hash": "977b4f815527edff52d42f7c09580f6f48eb00923934407c2fb133389eb94d28"
  }
 },
 "nbformat": 4,
 "nbformat_minor": 2
}