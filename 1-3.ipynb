{
 "cells": [
  {
   "cell_type": "markdown",
   "source": [
    "# numpy code"
   ],
   "metadata": {}
  },
  {
   "cell_type": "code",
   "execution_count": 7,
   "source": [
    "import numpy as np\n",
    "import pandas as pd"
   ],
   "outputs": [],
   "metadata": {}
  },
  {
   "cell_type": "code",
   "execution_count": 8,
   "source": [
    "np.array([(2,3,4), [4,5,6]])"
   ],
   "outputs": [
    {
     "output_type": "execute_result",
     "data": {
      "text/plain": [
       "array([[2, 3, 4],\n",
       "       [4, 5, 6]])"
      ]
     },
     "metadata": {},
     "execution_count": 8
    }
   ],
   "metadata": {}
  },
  {
   "cell_type": "code",
   "execution_count": 9,
   "source": [
    "np.empty(5)"
   ],
   "outputs": [
    {
     "output_type": "execute_result",
     "data": {
      "text/plain": [
       "array([1.72723371e-077, 2.32034860e+077, 3.45845952e-323, 0.00000000e+000,\n",
       "       0.00000000e+000])"
      ]
     },
     "metadata": {},
     "execution_count": 9
    }
   ],
   "metadata": {}
  },
  {
   "cell_type": "code",
   "execution_count": 10,
   "source": [
    "np.empty((5,4)) # but data is filled with garbage"
   ],
   "outputs": [
    {
     "output_type": "execute_result",
     "data": {
      "text/plain": [
       "array([[0.00000000e+000, 0.00000000e+000, 0.00000000e+000,\n",
       "        0.00000000e+000],\n",
       "       [0.00000000e+000, 0.00000000e+000, 0.00000000e+000,\n",
       "        0.00000000e+000],\n",
       "       [0.00000000e+000, 0.00000000e+000, 0.00000000e+000,\n",
       "        4.05620724e+174],\n",
       "       [1.72723371e-077, 1.72723371e-077, 4.44659081e-323,\n",
       "        0.00000000e+000],\n",
       "       [0.00000000e+000, 0.00000000e+000, 0.00000000e+000,\n",
       "        0.00000000e+000]])"
      ]
     },
     "metadata": {},
     "execution_count": 10
    }
   ],
   "metadata": {}
  },
  {
   "cell_type": "code",
   "execution_count": 11,
   "source": [
    "np.ones((5, 5), dtype=\"int\")"
   ],
   "outputs": [
    {
     "output_type": "execute_result",
     "data": {
      "text/plain": [
       "array([[1, 1, 1, 1, 1],\n",
       "       [1, 1, 1, 1, 1],\n",
       "       [1, 1, 1, 1, 1],\n",
       "       [1, 1, 1, 1, 1],\n",
       "       [1, 1, 1, 1, 1]])"
      ]
     },
     "metadata": {},
     "execution_count": 11
    }
   ],
   "metadata": {}
  },
  {
   "cell_type": "code",
   "execution_count": 12,
   "source": [
    "# random numbers between [0.0, 1.0)\n",
    "np.random.random((5,4))"
   ],
   "outputs": [
    {
     "output_type": "execute_result",
     "data": {
      "text/plain": [
       "array([[0.29694089, 0.33636388, 0.32509789, 0.6470454 ],\n",
       "       [0.55102524, 0.13782761, 0.06371593, 0.9370028 ],\n",
       "       [0.01870229, 0.53973534, 0.47068225, 0.15675071],\n",
       "       [0.14963484, 0.53680967, 0.11029616, 0.09831476],\n",
       "       [0.01491022, 0.4527732 , 0.73997228, 0.96592447]])"
      ]
     },
     "metadata": {},
     "execution_count": 12
    }
   ],
   "metadata": {}
  },
  {
   "cell_type": "code",
   "execution_count": 13,
   "source": [
    "# slight variant to above code\n",
    "np.random.rand(5,4) #function args but not a tuple like before"
   ],
   "outputs": [
    {
     "output_type": "execute_result",
     "data": {
      "text/plain": [
       "array([[0.20577002, 0.749083  , 0.64764541, 0.30757214],\n",
       "       [0.06222281, 0.06515647, 0.87451334, 0.9259674 ],\n",
       "       [0.55822106, 0.1216536 , 0.83691852, 0.67297767],\n",
       "       [0.60633291, 0.33173697, 0.37202602, 0.7646733 ],\n",
       "       [0.61122276, 0.8340443 , 0.20153183, 0.70199835]])"
      ]
     },
     "metadata": {},
     "execution_count": 13
    }
   ],
   "metadata": {}
  },
  {
   "cell_type": "code",
   "execution_count": 14,
   "source": [
    "# both rand and random samples from uniform distribution between 0 & 1. Want different distribution?\n",
    "np.random.normal(size=(5,2)) # a normal distribution!"
   ],
   "outputs": [
    {
     "output_type": "execute_result",
     "data": {
      "text/plain": [
       "array([[-1.59612448,  1.18778347],\n",
       "       [-1.30629191,  0.50453563],\n",
       "       [-0.19219753,  1.81094721],\n",
       "       [ 1.42083334, -0.51604539],\n",
       "       [ 0.55584933,  0.55341038]])"
      ]
     },
     "metadata": {},
     "execution_count": 14
    }
   ],
   "metadata": {}
  },
  {
   "cell_type": "code",
   "execution_count": 15,
   "source": [
    "np.random.randint(0,10, size=(6,7)) # to generte ints"
   ],
   "outputs": [
    {
     "output_type": "execute_result",
     "data": {
      "text/plain": [
       "array([[8, 0, 5, 4, 6, 1, 5],\n",
       "       [4, 3, 4, 9, 2, 2, 5],\n",
       "       [1, 4, 9, 0, 1, 7, 1],\n",
       "       [3, 2, 3, 1, 6, 7, 5],\n",
       "       [1, 7, 9, 1, 3, 2, 5],\n",
       "       [8, 4, 5, 7, 4, 1, 1]])"
      ]
     },
     "metadata": {},
     "execution_count": 15
    }
   ],
   "metadata": {}
  },
  {
   "cell_type": "code",
   "execution_count": 16,
   "source": [
    "a = np.random.randint(0,10, size=(6,7))\n",
    "a.shape"
   ],
   "outputs": [
    {
     "output_type": "execute_result",
     "data": {
      "text/plain": [
       "(6, 7)"
      ]
     },
     "metadata": {},
     "execution_count": 16
    }
   ],
   "metadata": {}
  },
  {
   "cell_type": "code",
   "execution_count": 17,
   "source": [
    "shape = f\"{a.shape[0]}; {a.shape[1]}\"\n",
    "shape"
   ],
   "outputs": [
    {
     "output_type": "execute_result",
     "data": {
      "text/plain": [
       "'6; 7'"
      ]
     },
     "metadata": {},
     "execution_count": 17
    }
   ],
   "metadata": {}
  },
  {
   "cell_type": "code",
   "execution_count": 18,
   "source": [
    "len(a.shape)  # this gives us the dimension of the data"
   ],
   "outputs": [
    {
     "output_type": "execute_result",
     "data": {
      "text/plain": [
       "2"
      ]
     },
     "metadata": {},
     "execution_count": 18
    }
   ],
   "metadata": {}
  },
  {
   "cell_type": "code",
   "execution_count": 19,
   "source": [
    "a.ndim # or you could use ndim and ask for the dimension"
   ],
   "outputs": [
    {
     "output_type": "execute_result",
     "data": {
      "text/plain": [
       "2"
      ]
     },
     "metadata": {},
     "execution_count": 19
    }
   ],
   "metadata": {}
  },
  {
   "cell_type": "code",
   "execution_count": 20,
   "source": [
    "# how do I get number of elements in an array with varying dimension\n",
    "data = np.random.randint(0,10, size=(2,4,8))\n",
    "print(data.size)  # get the # of elements\n",
    "print(data.dtype) # how about data type?"
   ],
   "outputs": [
    {
     "output_type": "stream",
     "name": "stdout",
     "text": [
      "64\n",
      "int64\n"
     ]
    }
   ],
   "metadata": {}
  },
  {
   "cell_type": "code",
   "execution_count": 21,
   "source": [
    "a = np.random.randint(0,10, size=(5,6))\n",
    "a"
   ],
   "outputs": [
    {
     "output_type": "execute_result",
     "data": {
      "text/plain": [
       "array([[5, 3, 4, 9, 1, 8],\n",
       "       [2, 2, 2, 8, 6, 9],\n",
       "       [8, 8, 2, 7, 2, 3],\n",
       "       [5, 9, 7, 0, 4, 2],\n",
       "       [0, 9, 7, 1, 5, 3]])"
      ]
     },
     "metadata": {},
     "execution_count": 21
    }
   ],
   "metadata": {}
  },
  {
   "cell_type": "code",
   "execution_count": 22,
   "source": [
    "a.sum(axis=0) # sum per column; 6 cols and therefore 6 values"
   ],
   "outputs": [
    {
     "output_type": "execute_result",
     "data": {
      "text/plain": [
       "array([20, 31, 22, 25, 18, 25])"
      ]
     },
     "metadata": {},
     "execution_count": 22
    }
   ],
   "metadata": {}
  },
  {
   "cell_type": "code",
   "execution_count": 23,
   "source": [
    "a.sum(axis=1) # sum per rows; 5 rows results in 5 values"
   ],
   "outputs": [
    {
     "output_type": "execute_result",
     "data": {
      "text/plain": [
       "array([30, 29, 30, 27, 25])"
      ]
     },
     "metadata": {},
     "execution_count": 23
    }
   ],
   "metadata": {}
  },
  {
   "cell_type": "code",
   "execution_count": 24,
   "source": [
    "a.min(axis=0)"
   ],
   "outputs": [
    {
     "output_type": "execute_result",
     "data": {
      "text/plain": [
       "array([0, 2, 2, 0, 1, 2])"
      ]
     },
     "metadata": {},
     "execution_count": 24
    }
   ],
   "metadata": {}
  },
  {
   "cell_type": "code",
   "execution_count": 25,
   "source": [
    "a.min(axis=1)"
   ],
   "outputs": [
    {
     "output_type": "execute_result",
     "data": {
      "text/plain": [
       "array([1, 2, 2, 0, 0])"
      ]
     },
     "metadata": {},
     "execution_count": 25
    }
   ],
   "metadata": {}
  },
  {
   "cell_type": "code",
   "execution_count": 26,
   "source": [
    "maxArg = a.argmax()  # to get index with maximum value\n",
    "actualIndex = np.unravel_index(maxArg, a.shape)  # unravel_index to help out with multi dimension array\n",
    "value = a[actualIndex]\n",
    "npMax = a.max()\n",
    "print(f\"maxArg @ {maxArg} & in 2d it is {actualIndex} and value is {value} and numpy max says it is {npMax}\")\n"
   ],
   "outputs": [
    {
     "output_type": "stream",
     "name": "stdout",
     "text": [
      "maxArg @ 3 & in 2d it is (0, 3) and value is 9 and numpy max says it is 9\n"
     ]
    }
   ],
   "metadata": {}
  },
  {
   "cell_type": "code",
   "execution_count": 27,
   "source": [
    "a = np.random.rand(5)\n",
    "indices = np.array([1,1,2,3])\n",
    "print(a)\n",
    "print(indices)"
   ],
   "outputs": [
    {
     "output_type": "stream",
     "name": "stdout",
     "text": [
      "[0.66184828 0.02450048 0.91562631 0.22935548 0.29593709]\n",
      "[1 1 2 3]\n"
     ]
    }
   ],
   "metadata": {}
  },
  {
   "cell_type": "code",
   "execution_count": 28,
   "source": [
    "a[indices]"
   ],
   "outputs": [
    {
     "output_type": "execute_result",
     "data": {
      "text/plain": [
       "array([0.02450048, 0.02450048, 0.91562631, 0.22935548])"
      ]
     },
     "metadata": {},
     "execution_count": 28
    }
   ],
   "metadata": {}
  },
  {
   "cell_type": "code",
   "execution_count": 29,
   "source": [
    "a = np.random.random(size=(5,4))\n",
    "a"
   ],
   "outputs": [
    {
     "output_type": "execute_result",
     "data": {
      "text/plain": [
       "array([[0.04524269, 0.32082677, 0.38713706, 0.37545279],\n",
       "       [0.76677866, 0.2820387 , 0.87461276, 0.71007054],\n",
       "       [0.9286132 , 0.07837283, 0.10324759, 0.89453553],\n",
       "       [0.4891974 , 0.11121239, 0.77741921, 0.01593809],\n",
       "       [0.04474911, 0.33217185, 0.23898668, 0.0539698 ]])"
      ]
     },
     "metadata": {},
     "execution_count": 29
    }
   ],
   "metadata": {}
  },
  {
   "cell_type": "code",
   "execution_count": 30,
   "source": [
    "a[a<a.mean()]"
   ],
   "outputs": [
    {
     "output_type": "execute_result",
     "data": {
      "text/plain": [
       "array([0.04524269, 0.32082677, 0.38713706, 0.37545279, 0.2820387 ,\n",
       "       0.07837283, 0.10324759, 0.11121239, 0.01593809, 0.04474911,\n",
       "       0.33217185, 0.23898668, 0.0539698 ])"
      ]
     },
     "metadata": {},
     "execution_count": 30
    }
   ],
   "metadata": {}
  },
  {
   "cell_type": "code",
   "execution_count": 31,
   "source": [
    "a<a.mean()"
   ],
   "outputs": [
    {
     "output_type": "execute_result",
     "data": {
      "text/plain": [
       "array([[ True,  True,  True,  True],\n",
       "       [False,  True, False, False],\n",
       "       [False,  True,  True, False],\n",
       "       [False,  True, False,  True],\n",
       "       [ True,  True,  True,  True]])"
      ]
     },
     "metadata": {},
     "execution_count": 31
    }
   ],
   "metadata": {}
  }
 ],
 "metadata": {
  "orig_nbformat": 4,
  "language_info": {
   "name": "python",
   "version": "3.6.13",
   "mimetype": "text/x-python",
   "codemirror_mode": {
    "name": "ipython",
    "version": 3
   },
   "pygments_lexer": "ipython3",
   "nbconvert_exporter": "python",
   "file_extension": ".py"
  },
  "kernelspec": {
   "name": "python3",
   "display_name": "Python 3.6.13 64-bit ('ml4t': conda)"
  },
  "interpreter": {
   "hash": "977b4f815527edff52d42f7c09580f6f48eb00923934407c2fb133389eb94d28"
  }
 },
 "nbformat": 4,
 "nbformat_minor": 2
}