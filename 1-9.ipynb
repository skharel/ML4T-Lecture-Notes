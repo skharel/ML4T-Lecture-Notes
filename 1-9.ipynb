{
 "cells": [
  {
   "cell_type": "markdown",
   "source": [
    "## What is portfolio optimization?\n",
    "\n",
    "- Given a set of assets and time period, find an allocation of funds to assets that maximizes performance.\n",
    "\n",
    "## What is performance?\n",
    "\n",
    "- We could choose from a number of metrics, including cumulative return, volatility or risk, and adjusted return (which is sharpe ratio)\n",
    "- Can use any metrics to optimize but for the assignment we will use sharpe ratio"
   ],
   "metadata": {}
  },
  {
   "cell_type": "markdown",
   "source": [
    "## Framing the problem\n",
    "\n",
    "- provide a function to minimize f(x)\n",
    "  - in this case, x are the allocations that we are looking for\n",
    "  - we want optimizer to try different allocations in order to discover the best set of allocations that optimizes this function\n",
    "  - what is this function? Since we want to optimize for sharpe ratio, it should be sharpe ratio. However, the minimizer will simply minimize the sharpe ratio but we actually want to maximize it; to fix, it simply multiply sharpe ratio by 1.\n",
    "  - x can have multiple dimension and each dimension is allocation to multiple stocks\n",
    "- provide an initial guess for x\n",
    "- call the optimizer"
   ],
   "metadata": {}
  },
  {
   "cell_type": "markdown",
   "source": [
    "## Ranges and constraints\n",
    "\n",
    "- Ranges: Limits on values - helps optimizer run faster!\n",
    "  - for this problem tell optimizer that it is only worth looking for value between 0 & 1\n",
    "  - limits the search area significantly\n",
    "\n",
    "- Constraints: Properties of X that must be \"true\"\n",
    "  - in this case sum of our allocation, abs(x), to add up to 1"
   ],
   "metadata": {}
  },
  {
   "cell_type": "markdown",
   "source": [],
   "metadata": {}
  }
 ],
 "metadata": {
  "orig_nbformat": 4,
  "language_info": {
   "name": "python",
   "version": "3.6.13",
   "mimetype": "text/x-python",
   "codemirror_mode": {
    "name": "ipython",
    "version": 3
   },
   "pygments_lexer": "ipython3",
   "nbconvert_exporter": "python",
   "file_extension": ".py"
  },
  "kernelspec": {
   "name": "python3",
   "display_name": "Python 3.6.13 64-bit ('ml4t': conda)"
  },
  "interpreter": {
   "hash": "977b4f815527edff52d42f7c09580f6f48eb00923934407c2fb133389eb94d28"
  }
 },
 "nbformat": 4,
 "nbformat_minor": 2
}