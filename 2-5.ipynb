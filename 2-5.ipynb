{
 "cells": [
  {
   "cell_type": "markdown",
   "source": [
    "# How hedge funds use the CAPM"
   ],
   "metadata": {}
  },
  {
   "cell_type": "markdown",
   "source": [
    "## Risks for hedge funds\n",
    "\n",
    "- Typical hedge funds develops methods to find stocks that they think will perform well. The informational edge that they are seeking is usually market relative; meaning they are looking for stocks that will go up more than the market when market goes up; and stock that goes down less if the market goes down. \n",
    "- If this information that they have is reliable then then can take advantage of the CAPM model to virtually guarantee positive return"
   ],
   "metadata": {}
  },
  {
   "cell_type": "markdown",
   "source": [
    "## Two stock scenario\n",
    "\n",
    "<img alt=\"2_5_1.png\" src=\"images/2_5_1.png\" width=\"350\">\n",
    "\n",
    "Suppose that we have found two stocks A & B with above defined characteristics; assume that the prediction is perfect. We enter the position of long and short respectively at the time corresponding to dotted line. Imagine that after this for next 10 days the market stays flat. With our prediction stock A goes up 1% & B goes down 1%. What does this mean for how much money we would see in return?\n",
    "\n",
    "=> Answer: <br/>\n",
    "<img alt=\"2_5_2.png\" src=\"images/2_5_2.png\" width=\"250\"> <br/>\n",
    "Since market didn't move, the first part of CAPM becomes 0 for both stock A & B and all we are left is with alpha. \n",
    "- for A, it is 1% and we make 1% of $50 = $0.5; \n",
    "- for B it is -1% of -$50 which is another $0.5; \n",
    "- In total we made $1 return (or 1% of total investment)"
   ],
   "metadata": {}
  },
  {
   "cell_type": "markdown",
   "source": [
    "## Two Stock Scenario Quiz\n",
    "\n",
    "### Quiz 1:\n",
    "\n",
    "suppose market goes up by 10%: <br/>\n",
    "<img alt=\"2_5_3.png\" src=\"images/2_5_3.png\" width=\"450\"> <br/>\n",
    "\n",
    "- Answer:\n",
    "  - ra: Ba * rm + Aa = 1 * 10% + 1% = 11%\n",
    "    - $ value is 50 * 11% = $5.5\n",
    "  - rb: Bb * rm + Ab = 2 * 10% - 1% = 19% but we have short position and this becomes -19%\n",
    "    - $ value is -$50 * 19% = -$9.5\n",
    "  - Total: \n",
    "    - % wise = .5 * 11 - .5 * 19 % = -4%  where .5 are the allocation weights\n",
    "    - $ wise = $5.5 - $9.5 = -$4\n",
    "  \n",
    "`Notice that we got -4% even when market went up by 10%`\n",
    "\n",
    "### Quiz 2:\n",
    "\n",
    "suppose market goes down by 10%: <br/>\n",
    "<img alt=\"2_5_4.png\" src=\"images/2_5_4.png\" width=\"450\"> <br/>\n",
    "\n",
    "- Answer:\n",
    "  - ra = Ba * rm + Aa = 1 * -10% + 1% = -9%\n",
    "    - $ value = -9% * $50 = -$4.5\n",
    "  - rb = Bb * rm + Ab = 2 * -10% - 1% = -21% and due to short position this is + 21%\n",
    "    - $ value = -21% * -$50 = $10.5\n",
    "  - Total:\n",
    "    - % wise = .5 * -9% + .5 * 21% = 6%\n",
    "    - $ wise = -4.5 + 10.5 = $6 \n",
    "\n",
    "`Notice that we got 6% even when market went down by 10%`\n",
    "\n",
    "## Take away:\n",
    "\n",
    "even if we have perfect alpha and perfect beta we `can still lose` if we are not careful on how we allocate our money; `How to fix this?` CAPM can help"
   ],
   "metadata": {}
  },
  {
   "cell_type": "markdown",
   "source": [
    "## Two Stocks CAPM math\n",
    "\n",
    "<img alt=\"2_5_5.png\" src=\"images/2_5_5.png\" width=\"450\"> <br/>\n",
    "- When we short, the weight is negative\n",
    "- 1<sup>st</sup> row is the formula for return on portfolio\n",
    "- 2<sup>nd</sup> row is just expanding first row\n",
    "<br/>\n",
    "- let's plugin this into your quiz:\n",
    "  - Case when Market went up by 10%\n",
    "    - -.5 * 10% + 1% = -5% + 1% = -4%\n",
    "\n",
    "- Stepping back and thinking about the last row: the 1% in the end is information that we have; on the other hand we have no idea about the market overall.\n",
    "- The question then is, `can we some how take off the part that we have no information about?` If we can then we `remove market risks from our portfolio` and we preserve this 1%;\n",
    "  <img alt=\"2_5_6.png\" src=\"images/2_5_6.png\" width=\"450\"> <br/>\n",
    "- In order to do that we need to focus on the .5 part; .5 came from the beta of the portfolio and therefore we can ask can we make this beta 0; in other words can we find weights for A & B such that their weights is 0? <br/>\n",
    "  <img alt=\"2_5_7.png\" src=\"images/2_5_7.png\" width=\"450\"> <br/>"
   ],
   "metadata": {}
  },
  {
   "cell_type": "markdown",
   "source": [
    "## Quiz: Allocations remove market risk\n",
    "\n",
    "<img alt=\"2_5_8.png\" src=\"images/2_5_8.png\" width=\"450\"> <br/>\n",
    "- Keep in mind that we are shorting B and therefore weight will be -ve; for A we are long and therefore weight will be +ve\n",
    "- Also, sum of weights must be 1\n",
    "\n",
    "=> Answer\n",
    "\n",
    "<img alt=\"2_5_9.png\" src=\"images/2_5_9.png\" width=\"450\"> <br/>"
   ],
   "metadata": {}
  },
  {
   "cell_type": "markdown",
   "source": [
    "## How does it work?\n",
    "\n",
    "<img alt=\"2_5_10.png\" src=\"images/2_5_10.png\" width=\"450\"> <br/>\n",
    "- Whichever way the market goes, we expect to have 1% return\n",
    "\n",
    "- Caveats:\n",
    "  - Betas are calculated based on historical data and therefore not a guarantee that they will continue onto the future\n",
    "  - Alphas are not guaranteed either!"
   ],
   "metadata": {}
  },
  {
   "cell_type": "markdown",
   "source": [
    "## CAPM for hedge funds summary\n",
    "\n",
    "Assuming:\n",
    "- we have some sort of actionable information that we can convert to forecast alpha for an stock i about which way it can go\n",
    "- and also Beta i for the stock i\n",
    "\n",
    "Then using CAPM we can:\n",
    "- minimize market risk by finding B<sub>p</sub> for our portfolio such that B<sub>p</sub> = 0\n",
    "- we can do that by finding appropriate weights on each individual stocks in our portfolio\n",
    "- so CAPM can be used to build portfolios that are less exposed to market risks\n",
    "- This is where the `idea of` whole `long short trading` came about and CAPM really enables you to refine that\n",
    "  <img alt=\"2_5_11.png\" src=\"images/2_5_11.png\" width=\"450\"> <br/>"
   ],
   "metadata": {}
  }
 ],
 "metadata": {
  "orig_nbformat": 4,
  "language_info": {
   "name": "python"
  }
 },
 "nbformat": 4,
 "nbformat_minor": 2
}